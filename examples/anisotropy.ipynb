{
 "cells": [
  {
   "cell_type": "code",
   "execution_count": 164,
   "id": "f5e78098",
   "metadata": {},
   "outputs": [],
   "source": [
    "import pickle, json\n",
    "\n",
    "import discovery as ds\n",
    "\n",
    "import numpy as np\n",
    "import jax\n",
    "import jax.numpy as jnp\n",
    "\n",
    "import matplotlib.pyplot as pp"
   ]
  },
  {
   "cell_type": "code",
   "execution_count": 198,
   "id": "52e7e20c",
   "metadata": {},
   "outputs": [
    {
     "data": {
      "text/plain": [
       "<module 'discovery' from '/Users/vallis/Documents/discovery/src/discovery/__init__.py'>"
      ]
     },
     "execution_count": 198,
     "metadata": {},
     "output_type": "execute_result"
    }
   ],
   "source": [
    "import imp\n",
    "\n",
    "imp.reload(ds.matrix)\n",
    "imp.reload(ds.signals)\n",
    "imp.reload(ds.likelihood)\n",
    "imp.reload(ds.prior)\n",
    "imp.reload(ds.pulsar)\n",
    "imp.reload(ds)"
   ]
  },
  {
   "cell_type": "markdown",
   "id": "88dce562",
   "metadata": {},
   "source": [
    "Load pulsars"
   ]
  },
  {
   "cell_type": "code",
   "execution_count": 166,
   "id": "3e5e03e0",
   "metadata": {},
   "outputs": [
    {
     "data": {
      "text/plain": [
       "[<discovery.pulsar.Pulsar at 0x1d9283810>,\n",
       " <discovery.pulsar.Pulsar at 0x1d98cfb50>]"
      ]
     },
     "execution_count": 166,
     "metadata": {},
     "output_type": "execute_result"
    }
   ],
   "source": [
    "psrfiles = !ls ../data\n",
    "psrs = [ds.Pulsar.read_feather(f'../data/{psrfile}') for psrfile in psrfiles[:2]]\n",
    "psrs"
   ]
  },
  {
   "cell_type": "markdown",
   "id": "09c29722",
   "metadata": {},
   "source": [
    "Standard model 3a"
   ]
  },
  {
   "cell_type": "code",
   "execution_count": 182,
   "id": "26db0ee5",
   "metadata": {},
   "outputs": [],
   "source": [
    "Tspan = ds.getspan(psrs)\n",
    "\n",
    "gbl = ds.GlobalLikelihood((ds.PulsarLikelihood([psr.residuals,\n",
    "                                                ds.makenoise_measurement(psr, psr.noisedict),\n",
    "                                                ds.makegp_ecorr(psr, psr.noisedict),\n",
    "                                                ds.makegp_timing(psr, variance=1e-14),\n",
    "                                                ds.makegp_fourier(psr, ds.powerlaw, 30, T=Tspan, name='rednoise')])\n",
    "                           for psr in psrs),\n",
    "                          ds.makegp_fourier_global(psrs, ds.powerlaw, ds.hd_orf, 14, T=Tspan, name='gw'))\n",
    "\n",
    "logl = gbl.logL"
   ]
  },
  {
   "cell_type": "code",
   "execution_count": 183,
   "id": "a52a9fa3",
   "metadata": {},
   "outputs": [
    {
     "data": {
      "text/plain": [
       "{'B1855+09_rednoise_gamma': 6.337026790487537,\n",
       " 'B1855+09_rednoise_log10_A': -17.100943473787986,\n",
       " 'B1937+21_rednoise_gamma': 0.4449595245917949,\n",
       " 'B1937+21_rednoise_log10_A': -12.859995213958111,\n",
       " 'gw_log10_A': -12.968476457039607,\n",
       " 'gw_gamma': 5.870155173424073}"
      ]
     },
     "execution_count": 183,
     "metadata": {},
     "output_type": "execute_result"
    }
   ],
   "source": [
    "p0 = ds.sample_uniform(logl.params)\n",
    "p0"
   ]
  },
  {
   "cell_type": "code",
   "execution_count": 184,
   "id": "c30a0818",
   "metadata": {},
   "outputs": [
    {
     "data": {
      "text/plain": [
       "Array(429841.62961266, dtype=float64)"
      ]
     },
     "execution_count": 184,
     "metadata": {},
     "output_type": "execute_result"
    }
   ],
   "source": [
    "logl(p0)"
   ]
  },
  {
   "cell_type": "markdown",
   "id": "d0bf56ee",
   "metadata": {},
   "source": [
    "Global GP with multiple components (different spectra and different ORFs)"
   ]
  },
  {
   "cell_type": "code",
   "execution_count": 185,
   "id": "c4ebe3d5",
   "metadata": {},
   "outputs": [],
   "source": [
    "Tspan = ds.getspan(psrs)\n",
    "\n",
    "gbl2 = ds.GlobalLikelihood((ds.PulsarLikelihood([psr.residuals,\n",
    "                                                ds.makenoise_measurement(psr, psr.noisedict),\n",
    "                                                ds.makegp_ecorr(psr, psr.noisedict),\n",
    "                                                ds.makegp_timing(psr, variance=1e-14),\n",
    "                                                ds.makegp_fourier(psr, ds.powerlaw, 30, T=Tspan, name='rednoise')])\n",
    "                            for psr in psrs),\n",
    "                           ds.makegp_fourier_global(psrs,\n",
    "                                                    [ds.powerlaw, ds.powerlaw],\n",
    "                                                    [ds.hd_orf, ds.dipole_orf],\n",
    "                                                    14, T=Tspan, name='gw'))\n",
    "\n",
    "logl2 = gbl2.logL"
   ]
  },
  {
   "cell_type": "markdown",
   "id": "4fefd449",
   "metadata": {},
   "source": [
    "Note the parameter names follow from the orf functions"
   ]
  },
  {
   "cell_type": "code",
   "execution_count": 188,
   "id": "5768f5eb",
   "metadata": {},
   "outputs": [
    {
     "data": {
      "text/plain": [
       "{'B1855+09_rednoise_gamma': 1.3079309930662648,\n",
       " 'B1855+09_rednoise_log10_A': -11.5753220526957,\n",
       " 'B1937+21_rednoise_gamma': 4.803336230638544,\n",
       " 'B1937+21_rednoise_log10_A': -11.4686576928151,\n",
       " 'gw_dipoleorf_gamma': 4.14579350147083,\n",
       " 'gw_dipoleorf_log10_A': -16.360764555101827,\n",
       " 'gw_hdorf_gamma': 0.409405763199836,\n",
       " 'gw_hdorf_log10_A': -17.066065343608827}"
      ]
     },
     "execution_count": 188,
     "metadata": {},
     "output_type": "execute_result"
    }
   ],
   "source": [
    "p2 = ds.sample_uniform(logl2.params)\n",
    "p2"
   ]
  },
  {
   "cell_type": "code",
   "execution_count": 189,
   "id": "45b28017",
   "metadata": {},
   "outputs": [
    {
     "data": {
      "text/plain": [
       "Array(440901.76079345, dtype=float64)"
      ]
     },
     "execution_count": 189,
     "metadata": {},
     "output_type": "execute_result"
    }
   ],
   "source": [
    "logl2(p2)"
   ]
  },
  {
   "cell_type": "markdown",
   "id": "3ac9d7ed",
   "metadata": {},
   "source": [
    "Conditional distribution"
   ]
  },
  {
   "cell_type": "code",
   "execution_count": 203,
   "id": "78faae22",
   "metadata": {},
   "outputs": [
    {
     "data": {
      "text/plain": [
       "<module 'discovery' from '/Users/vallis/Documents/discovery/src/discovery/__init__.py'>"
      ]
     },
     "execution_count": 203,
     "metadata": {},
     "output_type": "execute_result"
    }
   ],
   "source": [
    "import imp\n",
    "\n",
    "imp.reload(ds.matrix)\n",
    "imp.reload(ds.signals)\n",
    "imp.reload(ds.likelihood)\n",
    "imp.reload(ds.prior)\n",
    "imp.reload(ds.pulsar)\n",
    "imp.reload(ds)"
   ]
  },
  {
   "cell_type": "code",
   "execution_count": 227,
   "id": "ef3a73bd",
   "metadata": {},
   "outputs": [
    {
     "data": {
      "text/plain": [
       "[<discovery.pulsar.Pulsar at 0x1d9872610>,\n",
       " <discovery.pulsar.Pulsar at 0x1dc89f8d0>,\n",
       " <discovery.pulsar.Pulsar at 0x1dca40050>]"
      ]
     },
     "execution_count": 227,
     "metadata": {},
     "output_type": "execute_result"
    }
   ],
   "source": [
    "psrfiles = !ls ../data\n",
    "psrs = [ds.Pulsar.read_feather(f'../data/{psrfile}') for psrfile in psrfiles[:3]]\n",
    "psrs"
   ]
  },
  {
   "cell_type": "code",
   "execution_count": 304,
   "id": "87fd144a",
   "metadata": {},
   "outputs": [],
   "source": [
    "Tspan = ds.getspan(psrs)\n",
    "\n",
    "outpsr = 0\n",
    "outnoise = ds.makenoise_measurement_simple(psrs[0], {f'{psrs[outpsr].name}_efac': 1.0,\n",
    "                                                     f'{psrs[outpsr].name}_log10_t2equad': 0.0})\n",
    "\n",
    "gbl = ds.GlobalLikelihood([ds.PulsarLikelihood([psr.residuals,\n",
    "                                                outnoise if ipsr == outpsr else ds.makenoise_measurement(psr, psr.noisedict),\n",
    "                                                ds.makegp_ecorr(psr, psr.noisedict),\n",
    "                                                ds.makegp_timing(psr, variance=1e-14),\n",
    "                                                ds.makegp_fourier(psr, ds.powerlaw, 30, T=Tspan, name='rednoise')])\n",
    "                           for ipsr, psr in enumerate(psrs)],\n",
    "                          ds.makegp_fourier_global(psrs, ds.powerlaw, ds.hd_orf, 14, T=Tspan, name='gw'))\n",
    "\n",
    "cond = gbl.conditional"
   ]
  },
  {
   "cell_type": "code",
   "execution_count": 255,
   "id": "3f08dd04",
   "metadata": {},
   "outputs": [
    {
     "data": {
      "text/plain": [
       "['B1855+09_rednoise_gamma',\n",
       " 'B1855+09_rednoise_log10_A',\n",
       " 'B1937+21_rednoise_gamma',\n",
       " 'B1937+21_rednoise_log10_A',\n",
       " 'B1953+29_rednoise_gamma',\n",
       " 'B1953+29_rednoise_log10_A',\n",
       " 'gw_log10_A',\n",
       " 'gw_gamma']"
      ]
     },
     "execution_count": 255,
     "metadata": {},
     "output_type": "execute_result"
    }
   ],
   "source": [
    "cond.params"
   ]
  },
  {
   "cell_type": "code",
   "execution_count": 305,
   "id": "290be1ef",
   "metadata": {},
   "outputs": [],
   "source": [
    "p0 = ds.sample_uniform(cond.params)"
   ]
  },
  {
   "cell_type": "code",
   "execution_count": 306,
   "id": "ffacf890",
   "metadata": {},
   "outputs": [],
   "source": [
    "cdist = cond(p0)"
   ]
  },
  {
   "cell_type": "code",
   "execution_count": 307,
   "id": "8a11187c",
   "metadata": {},
   "outputs": [
    {
     "data": {
      "text/plain": [
       "Array([ 1.12069241e-06,  2.24387097e-06,  5.03134828e-07,  4.72657644e-07,\n",
       "        3.03832707e-08, -2.85461849e-07, -1.19475192e-07, -3.74678655e-08,\n",
       "        9.22343885e-09,  1.48455111e-08,  3.16224204e-08,  2.97032414e-08,\n",
       "       -1.18850595e-08, -3.88159253e-08, -2.48324536e-08, -1.52352045e-08,\n",
       "        5.97552610e-09,  1.17576269e-08, -5.15913907e-09,  7.93599810e-09,\n",
       "       -1.26668586e-08,  2.07898044e-09, -2.70123638e-09,  5.89471446e-10,\n",
       "        2.90228065e-09, -2.98293031e-10,  1.74988565e-09,  9.49270808e-09],      dtype=float64)"
      ]
     },
     "execution_count": 307,
     "metadata": {},
     "output_type": "execute_result"
    }
   ],
   "source": [
    "cdist[0][:28]"
   ]
  },
  {
   "cell_type": "code",
   "execution_count": 308,
   "id": "80cce43c",
   "metadata": {},
   "outputs": [
    {
     "data": {
      "text/plain": [
       "Array([ 3.37941189e-06,  6.46632942e-06,  1.41167808e-06,  1.26962719e-06,\n",
       "        1.01725483e-07, -8.09321786e-07, -3.13519679e-07, -1.53921103e-07,\n",
       "        6.17988269e-09,  7.91679329e-09,  6.87678104e-08,  6.19571912e-08,\n",
       "       -3.26126999e-08, -1.02200056e-07, -6.24997994e-08, -3.21836545e-08,\n",
       "        1.68328339e-08,  3.65409535e-08, -9.83934993e-09,  2.18050965e-08,\n",
       "       -2.73277544e-08,  4.84771461e-09, -2.50718732e-09,  6.16639810e-10,\n",
       "        9.77029876e-09, -1.72231799e-09,  4.54428210e-09,  2.43176752e-08],      dtype=float64)"
      ]
     },
     "execution_count": 308,
     "metadata": {},
     "output_type": "execute_result"
    }
   ],
   "source": [
    "cdist[0][28:56]"
   ]
  },
  {
   "cell_type": "markdown",
   "id": "f27f6c44",
   "metadata": {},
   "source": [
    "Check that the prediction is insensitive to outpsr, but not to the others."
   ]
  },
  {
   "cell_type": "code",
   "execution_count": 309,
   "id": "efbee236",
   "metadata": {},
   "outputs": [],
   "source": [
    "p1 = {**p0, f'{psrs[outpsr].name}_rednoise_gamma': 4.0, f'{psrs[outpsr].name}_rednoise_log10_A': -15.0}"
   ]
  },
  {
   "cell_type": "code",
   "execution_count": 310,
   "id": "32d1c11e",
   "metadata": {},
   "outputs": [
    {
     "data": {
      "text/plain": [
       "Array([0., 0., 0., 0., 0., 0., 0., 0., 0., 0., 0., 0., 0., 0., 0., 0., 0.,\n",
       "       0., 0., 0., 0., 0., 0., 0., 0., 0., 0., 0.], dtype=float64)"
      ]
     },
     "execution_count": 310,
     "metadata": {},
     "output_type": "execute_result"
    }
   ],
   "source": [
    "cond(p1)[0][:28] - cdist[0][:28]"
   ]
  },
  {
   "cell_type": "code",
   "execution_count": 311,
   "id": "04b95e62",
   "metadata": {},
   "outputs": [],
   "source": [
    "p2 = {**p0, f'{psrs[outpsr+1].name}_rednoise_gamma': 4.0, f'{psrs[outpsr+1].name}_rednoise_log10_A': -15.0}"
   ]
  },
  {
   "cell_type": "code",
   "execution_count": 312,
   "id": "53bd2ae0",
   "metadata": {},
   "outputs": [
    {
     "data": {
      "text/plain": [
       "Array([-8.48529036e-07, -1.59088736e-06, -1.75784722e-07, -1.18920997e-07,\n",
       "       -1.76856128e-08,  4.46703699e-08,  3.58167822e-09,  7.46686256e-09,\n",
       "        1.18562761e-09, -1.13984642e-09, -7.96329290e-09, -1.96057131e-09,\n",
       "        1.06596039e-10,  4.40796576e-09,  6.71563635e-10, -3.28433243e-09,\n",
       "       -2.62423806e-09,  2.42834676e-10,  9.46841944e-10,  4.03087931e-10,\n",
       "       -7.73259402e-10, -2.36556195e-09, -1.20849575e-09,  1.16142875e-09,\n",
       "        1.21897854e-09,  1.44844421e-10, -5.63799296e-10, -1.12631805e-09],      dtype=float64)"
      ]
     },
     "execution_count": 312,
     "metadata": {},
     "output_type": "execute_result"
    }
   ],
   "source": [
    "cond(p2)[0][:28] - cdist[0][:28]"
   ]
  },
  {
   "cell_type": "markdown",
   "id": "f052f34d",
   "metadata": {},
   "source": [
    "The second term in the conditional is `cf = L^-1` where S = L L^T is the variance of the normal distribution."
   ]
  },
  {
   "cell_type": "code",
   "execution_count": 370,
   "id": "2af6e865",
   "metadata": {},
   "outputs": [],
   "source": [
    "outrange  = slice(outpsr*28, (outpsr+1)*28)\n",
    "\n",
    "mean      = cdist[0][outrange]\n",
    "righthand = jnp.identity(len(cdist[0]))[:, outrange]\n",
    "sigmalow  = ds.matrix.jsp.linalg.cho_solve(cdist[1], righthand)\n",
    "variance  = sigmalow[outrange, :]"
   ]
  },
  {
   "cell_type": "markdown",
   "id": "dd5517b0",
   "metadata": {},
   "source": [
    "Check that the mean matches. Note this requires that a list be fed to ds.GlobalLikelihood above, but it can be safely changed to a generator in production."
   ]
  },
  {
   "cell_type": "code",
   "execution_count": 331,
   "id": "6c583030",
   "metadata": {},
   "outputs": [
    {
     "data": {
      "text/plain": [
       "Array([ 6.35274710e-22,  4.23516474e-22, -1.05879118e-22, -2.11758237e-22,\n",
       "        8.60267837e-23,  1.58818678e-22,  0.00000000e+00,  2.64697796e-23,\n",
       "        6.45200878e-23,  1.02570396e-22, -2.91167576e-22, -8.60267837e-23,\n",
       "        2.87858853e-22,  3.30872245e-23, -2.97785021e-23, -1.05879118e-22,\n",
       "       -2.48154184e-23,  7.61006164e-23,  2.23338765e-23, -2.48154184e-23,\n",
       "       -2.15066959e-23,  1.19941189e-23, -6.98967618e-23,  7.23783036e-24,\n",
       "       -1.81979735e-23,  1.31314922e-23,  4.96308368e-24, -1.65436123e-24],      dtype=float64)"
      ]
     },
     "execution_count": 331,
     "metadata": {},
     "output_type": "execute_result"
    }
   ],
   "source": [
    "ksolves = [psl.N.make_kernelsolve(psl.y, F) for psl, F in zip(gbl.psls, gbl.globalgp.Fs)]\n",
    "FtNmy = ds.matrix.jnp.concatenate([ksolve(p0)[0] for ksolve in ksolves])\n",
    "ds.matrix.jnp.dot(sigmalow.T, FtNmy) - cdist[0][:28]"
   ]
  },
  {
   "cell_type": "code",
   "execution_count": 393,
   "id": "47471f63",
   "metadata": {},
   "outputs": [],
   "source": [
    "def makegp_fourier_delay(psr, components, T=None, name='fourierGP'):\n",
    "    argname = f'{psr.name}_{name}_delay'\n",
    "    \n",
    "    f, df, fmat = ds.fourierbasis(psr, components, T)\n",
    "    Fmat = ds.matrix.jnparray(fmat)\n",
    "    \n",
    "    def delayfunc(params):\n",
    "        return ds.matrix.jnp.dot(fmat, params[argname])\n",
    "    delayfunc.params = [argname]\n",
    "\n",
    "    return delayfunc\n",
    "\n",
    "ds.makegp_fourier_delay = makegp_fourier_delay"
   ]
  },
  {
   "cell_type": "code",
   "execution_count": 394,
   "id": "d4db6535",
   "metadata": {},
   "outputs": [],
   "source": [
    "def gpvariance(f, df, variance):\n",
    "    return variance"
   ]
  },
  {
   "cell_type": "code",
   "execution_count": 484,
   "id": "43e53eb9",
   "metadata": {},
   "outputs": [
    {
     "data": {
      "text/plain": [
       "<module 'discovery' from '/Users/vallis/Documents/discovery/src/discovery/__init__.py'>"
      ]
     },
     "execution_count": 484,
     "metadata": {},
     "output_type": "execute_result"
    }
   ],
   "source": [
    "import imp\n",
    "\n",
    "imp.reload(ds.matrix)\n",
    "imp.reload(ds.signals)\n",
    "imp.reload(ds.likelihood)\n",
    "imp.reload(ds.prior)\n",
    "imp.reload(ds.pulsar)\n",
    "imp.reload(ds)"
   ]
  },
  {
   "cell_type": "code",
   "execution_count": 485,
   "id": "916e1887",
   "metadata": {},
   "outputs": [],
   "source": [
    "psr = psrs[outpsr]\n",
    "spl = ds.PulsarLikelihood([psr.residuals,\n",
    "                           ds.makenoise_measurement(psr, psr.noisedict),\n",
    "                           ds.makegp_ecorr(psr, psr.noisedict),\n",
    "                           ds.makegp_timing(psr, variance=1e-14),\n",
    "                           ds.makegp_fourier(psr, ds.powerlaw, 30, T=Tspan, name='rednoise'),\n",
    "                           ds.makegp_fourier_delay(psr, 14, name='gw'),\n",
    "                           ds.makegp_fourier(psr, gpvariance, 14, T=Tspan, priordim=2, name='gw')\n",
    "                           ])\n",
    "\n",
    "logl = spl.logL"
   ]
  },
  {
   "cell_type": "code",
   "execution_count": 486,
   "id": "49a47cf7",
   "metadata": {},
   "outputs": [
    {
     "data": {
      "text/plain": [
       "['B1855+09_gw_delay',\n",
       " 'B1855+09_gw_variance',\n",
       " 'B1855+09_rednoise_gamma',\n",
       " 'B1855+09_rednoise_log10_A']"
      ]
     },
     "execution_count": 486,
     "metadata": {},
     "output_type": "execute_result"
    }
   ],
   "source": [
    "logl.params"
   ]
  },
  {
   "cell_type": "markdown",
   "id": "86730a8c",
   "metadata": {},
   "source": [
    "Check"
   ]
  },
  {
   "cell_type": "code",
   "execution_count": 511,
   "id": "3c694877",
   "metadata": {},
   "outputs": [
    {
     "name": "stdout",
     "output_type": "stream",
     "text": [
      "0.0\n",
      "[[ 1.31494579e-14  4.00657769e-18 -2.98759762e-17 -2.79209532e-17\n",
      "   1.29008727e-18  1.01109141e-17  6.00787470e-19  5.59450723e-18\n",
      "  -4.55038036e-19  1.08262617e-18  6.30991243e-18 -3.21841822e-18\n",
      "  -3.23834052e-18 -3.51155943e-18 -4.35746231e-18  4.11263501e-18\n",
      "   3.35445373e-18 -1.81548818e-19 -5.77642544e-19 -2.96220468e-18\n",
      "  -3.03322602e-19  3.08492645e-19  3.76698741e-19  3.75129948e-19\n",
      "  -7.41820667e-19  4.88516686e-19  2.62218092e-19 -2.99060222e-20]\n",
      " [ 4.00657769e-18  1.31587101e-14  1.86841513e-17 -1.57723352e-17\n",
      "   2.75108707e-18 -1.74774799e-18  1.69474047e-18  7.00973434e-18\n",
      "   9.77371427e-18 -2.37697012e-18  1.39459387e-19 -2.71489306e-18\n",
      "   4.44432547e-18  2.16579908e-18  2.26171643e-18 -3.68347619e-18\n",
      "  -2.79487602e-20  2.26300804e-19  9.55471234e-19  1.73020885e-19\n",
      "  -1.00805657e-18 -1.73573487e-18 -1.66181940e-18  1.11403682e-18\n",
      "   8.51063217e-19  3.69204209e-19 -3.75578525e-19 -3.59951012e-19]\n",
      " [-2.98759762e-17  1.86841513e-17  3.59608561e-15  8.36058937e-18\n",
      "  -1.31453007e-17 -1.08940507e-17 -7.14377443e-19  8.89123403e-18\n",
      "   9.45249710e-18 -1.05861874e-18 -4.65547085e-18 -3.07764943e-18\n",
      "   2.15668152e-18  3.02912027e-18  2.05366812e-18 -4.16511383e-18\n",
      "  -4.06736298e-18  2.02706114e-19  2.46215932e-18  1.47307986e-19\n",
      "  -7.08772143e-19 -2.56800234e-18 -1.68334783e-18  1.20634780e-18\n",
      "   1.31059429e-18  5.43292095e-19 -4.51224139e-19 -4.75394989e-19]\n",
      " [-2.79209532e-17 -1.57723352e-17  8.36058937e-18  3.59208620e-15\n",
      "   1.40273080e-17 -8.43279746e-18  1.59083801e-18 -4.45025647e-18\n",
      "  -4.06659179e-18 -1.29763797e-18  2.03034225e-18  2.59943831e-18\n",
      "   3.88425296e-18  1.74571033e-18  3.26295195e-18 -2.67484962e-18\n",
      "  -2.77526715e-18 -2.71305301e-18 -2.88981577e-19  1.31875064e-18\n",
      "   1.15003282e-18  1.48593663e-19  4.70775648e-19 -6.42584112e-19\n",
      "  -1.20528222e-18 -1.23924318e-19 -1.98883196e-19  1.45306682e-19]\n",
      " [ 1.29008727e-18  2.75108707e-18 -1.31453007e-17  1.40273080e-17\n",
      "   1.68703558e-15  5.72010494e-18 -8.18473090e-19 -1.18603481e-17\n",
      "  -6.43507901e-18  3.00327385e-18  3.69335655e-18  4.83360987e-18\n",
      "   1.53290775e-18 -2.97789129e-18  7.62740227e-19 -1.58371379e-18\n",
      "   1.76423895e-19 -2.96228832e-18 -3.25368763e-18  6.19307890e-19\n",
      "   1.12529855e-18  1.13979233e-18  6.93857559e-19 -1.97149691e-18\n",
      "  -1.45178456e-18 -3.27535837e-19  1.62583798e-19  1.02371169e-18]\n",
      " [ 1.01109141e-17 -1.74774799e-18 -1.08940507e-17 -8.43279746e-18\n",
      "   5.72010494e-18  1.68398306e-15  6.28281396e-18 -1.17636211e-17\n",
      "  -4.45439695e-18  1.32134033e-18  2.85213309e-18  2.86715341e-18\n",
      "   1.50670534e-18 -3.43772897e-18 -1.22938381e-18  2.61715652e-18\n",
      "   3.08736016e-18 -9.70214881e-19 -2.18456605e-18 -2.47966295e-18\n",
      "   7.70715885e-19  2.04076277e-18  1.16402496e-18 -1.08400760e-18\n",
      "  -7.48775352e-19 -5.36516369e-19 -5.22389929e-19  7.91623391e-19]\n",
      " [ 6.00787470e-19  1.69474047e-18 -7.14377443e-19  1.59083801e-18\n",
      "  -8.18473090e-19  6.28281396e-18  9.83740339e-16 -6.06574423e-19\n",
      "  -4.56260364e-18 -3.42505557e-18  3.68087276e-19  2.48789040e-18\n",
      "   1.51575654e-18 -5.82629740e-19 -2.04212690e-19 -1.67119355e-18\n",
      "   1.10859632e-18 -9.96316508e-19 -8.55055816e-19 -1.45811059e-18\n",
      "  -1.34304104e-18  6.51905456e-19  7.25387979e-19 -5.21212759e-19\n",
      "  -6.31212003e-19 -8.30234025e-19 -1.38560782e-19  4.25928183e-19]\n",
      " [ 5.59450723e-18  7.00973434e-18  8.89123403e-18 -4.45025647e-18\n",
      "  -1.18603481e-17 -1.17636211e-17 -6.06574423e-19  9.92007578e-16\n",
      "   1.16194780e-17 -5.15824393e-18 -3.86186476e-18 -4.94324374e-18\n",
      "  -2.24514657e-18  3.62364481e-18  1.92271216e-18 -1.30059288e-18\n",
      "  -4.98120027e-19  1.68865950e-18  3.60997663e-18 -5.63606814e-20\n",
      "  -1.65057434e-18 -3.39234463e-18 -9.17999763e-19  1.76103969e-18\n",
      "   1.55188045e-18  3.35472703e-19  2.20856816e-19 -1.20383790e-18]\n",
      " [-4.55038036e-19  9.77371427e-18  9.45249710e-18 -4.06659179e-18\n",
      "  -6.43507901e-18 -4.45439695e-18 -4.56260364e-18  1.16194780e-17\n",
      "   6.57025603e-16 -8.32607563e-19 -5.21850444e-18 -7.64687659e-18\n",
      "  -1.27040698e-18  3.10263328e-18  1.80387249e-18 -1.73243865e-19\n",
      "  -1.08082769e-18 -5.26953412e-19  2.37244844e-18 -7.32481706e-19\n",
      "  -9.48965158e-19 -2.78315879e-18 -2.62936814e-18  1.40127513e-18\n",
      "   1.67882821e-18  4.12572806e-19 -5.62382939e-19 -1.43181969e-18]\n",
      " [ 1.08262617e-18 -2.37697012e-18 -1.05861874e-18 -1.29763797e-18\n",
      "   3.00327385e-18  1.32134033e-18 -3.42505557e-18 -5.15824393e-18\n",
      "  -8.32607563e-19  6.51145557e-16  4.25843098e-18 -2.68143869e-18\n",
      "  -2.30411906e-18 -2.22014305e-18 -1.48662179e-18  2.04653100e-18\n",
      "   2.27865000e-18 -1.72911922e-19 -3.55867952e-19  2.88680884e-19\n",
      "   1.39495186e-18  2.45449412e-19 -4.61683943e-19 -1.46580460e-18\n",
      "   2.49317610e-19  2.60604102e-19  2.35232544e-19  1.87582139e-19]\n",
      " [ 6.30991243e-18  1.39459387e-19 -4.65547085e-18  2.03034225e-18\n",
      "   3.69335655e-18  2.85213309e-18  3.68087276e-19 -3.86186476e-18\n",
      "  -5.21850444e-18  4.25843098e-18  4.67830929e-16  4.12445906e-19\n",
      "  -3.17254378e-18 -5.46264741e-18 -1.95373073e-18  2.90526323e-18\n",
      "   2.36950719e-18  7.15994914e-20 -1.19160673e-18 -1.75614281e-18\n",
      "   5.66501136e-19  3.09168279e-19  4.78693490e-19 -1.35416242e-18\n",
      "  -2.00365626e-18  6.57651840e-20  2.99224527e-19  2.59799625e-19]\n",
      " [-3.21841822e-18 -2.71489306e-18 -3.07764943e-18  2.59943831e-18\n",
      "   4.83360987e-18  2.86715341e-18  2.48789040e-18 -4.94324374e-18\n",
      "  -7.64687659e-18 -2.68143869e-18  4.12445906e-19  4.67056459e-16\n",
      "   4.06667071e-18 -3.16318349e-18 -1.21390268e-18 -1.12517900e-18\n",
      "  -1.16245676e-18  4.66409901e-19  3.46195133e-19  1.34681199e-19\n",
      "   6.83456705e-19  1.59258590e-18  2.02400517e-18 -9.67686734e-19\n",
      "  -1.38075701e-18 -1.22547584e-18  2.87865473e-19  8.75330081e-19]\n",
      " [-3.23834052e-18  4.44432547e-18  2.15668152e-18  3.88425296e-18\n",
      "   1.53290775e-18  1.50670534e-18  1.51575654e-18 -2.24514657e-18\n",
      "  -1.27040698e-18 -2.30411906e-18 -3.17254378e-18  4.06667071e-18\n",
      "   3.51876822e-16  7.59374529e-19 -1.57339955e-18 -4.59265773e-18\n",
      "  -1.82633010e-18  9.70523404e-19  5.31760123e-19  9.43731877e-19\n",
      "   2.29810808e-19 -7.23129475e-19  3.78127469e-19 -8.37167790e-19\n",
      "  -5.38302028e-19 -9.89858930e-19 -1.03690754e-18  7.04929242e-19]\n",
      " [-3.51155943e-18  2.16579908e-18  3.02912027e-18  1.74571033e-18\n",
      "  -2.97789129e-18 -3.43772897e-18 -5.82629740e-19  3.62364481e-18\n",
      "   3.10263328e-18 -2.22014305e-18 -5.46264741e-18 -3.16318349e-18\n",
      "   7.59374529e-19  3.52549250e-16  3.50591023e-18 -3.53005557e-18\n",
      "  -2.33666466e-18 -6.67486499e-19  6.11616673e-20  1.59208267e-18\n",
      "   1.21471289e-18 -1.17863140e-18 -5.05924971e-19  1.28313641e-18\n",
      "   1.57240528e-18  9.42020992e-20 -2.44388292e-19 -1.51104305e-18]\n",
      " [-4.35746231e-18  2.26171643e-18  2.05366812e-18  3.26295195e-18\n",
      "   7.62740227e-19 -1.22938381e-18 -2.04212690e-19  1.92271216e-18\n",
      "   1.80387249e-18 -1.48662179e-18 -1.95373073e-18 -1.21390268e-18\n",
      "  -1.57339955e-18  3.50591023e-18  2.75330544e-16 -7.65469830e-19\n",
      "  -2.76128700e-18 -2.76885771e-18 -1.37859970e-19  1.65496632e-18\n",
      "   4.47955512e-19 -3.03174770e-19 -6.99434789e-19 -6.63312953e-19\n",
      "   7.43223757e-19 -1.49727316e-20 -8.73289561e-20 -6.61052499e-19]\n",
      " [ 4.11263501e-18 -3.68347619e-18 -4.16511383e-18 -2.67484962e-18\n",
      "  -1.58371379e-18  2.61715652e-18 -1.67119355e-18 -1.30059288e-18\n",
      "  -1.73243865e-19  2.04653100e-18  2.90526323e-18 -1.12517900e-18\n",
      "  -4.59265773e-18 -3.53005557e-18 -7.65469830e-19  2.76588043e-16\n",
      "   3.78243670e-18 -1.59601178e-18 -1.08523510e-18 -1.64143879e-18\n",
      "  -1.02779406e-18  1.32577227e-18  1.20888840e-18 -1.04849757e-19\n",
      "   4.26791000e-19  3.99752827e-19  9.95860804e-19 -2.36675575e-19]\n",
      " [ 3.35445373e-18 -2.79487602e-20 -4.06736298e-18 -2.77526715e-18\n",
      "   1.76423895e-19  3.08736016e-18  1.10859632e-18 -4.98120027e-19\n",
      "  -1.08082769e-18  2.27865000e-18  2.36950719e-18 -1.16245676e-18\n",
      "  -1.82633010e-18 -2.33666466e-18 -2.76128700e-18  3.78243670e-18\n",
      "   2.23187072e-16  3.44372670e-19 -2.26485922e-18 -3.29787775e-18\n",
      "  -1.00687496e-18  1.33876293e-18  9.01385536e-19  5.33612476e-19\n",
      "  -1.93759278e-19 -6.66183661e-19  2.95917803e-19 -1.06601166e-19]\n",
      " [-1.81548818e-19  2.26300804e-19  2.02706114e-19 -2.71305301e-18\n",
      "  -2.96228832e-18 -9.70214881e-19 -9.96316508e-19  1.68865950e-18\n",
      "  -5.26953412e-19 -1.72911922e-19  7.15994914e-20  4.66409901e-19\n",
      "   9.70523404e-19 -6.67486499e-19 -2.76885771e-18 -1.59601178e-18\n",
      "   3.44372670e-19  2.21747686e-16  1.97511968e-18 -1.41259779e-18\n",
      "  -8.16078769e-19 -5.03935691e-19 -1.77856723e-19  5.45288693e-19\n",
      "   9.97739176e-19 -2.85358148e-19  3.68593697e-19  4.29490594e-19]\n",
      " [-5.77642544e-19  9.55471234e-19  2.46215932e-18 -2.88981577e-19\n",
      "  -3.25368763e-18 -2.18456605e-18 -8.55055816e-19  3.60997663e-18\n",
      "   2.37244844e-18 -3.55867952e-19 -1.19160673e-18  3.46195133e-19\n",
      "   5.31760123e-19  6.11616673e-20 -1.37859970e-19 -1.08523510e-18\n",
      "  -2.26485922e-18  1.97511968e-18  1.83203079e-16  2.64577918e-19\n",
      "  -1.37243803e-18 -2.06601217e-18 -6.35934649e-19  1.11471228e-18\n",
      "   5.81321489e-19  5.47261407e-19 -4.51044708e-19 -9.12582663e-19]\n",
      " [-2.96220468e-18  1.73020885e-19  1.47307986e-19  1.31875064e-18\n",
      "   6.19307890e-19 -2.47966295e-18 -1.45811059e-18 -5.63606814e-20\n",
      "  -7.32481706e-19  2.88680884e-19 -1.75614281e-18  1.34681199e-19\n",
      "   9.43731877e-19  1.59208267e-18  1.65496632e-18 -1.64143879e-18\n",
      "  -3.29787775e-18 -1.41259779e-18  2.64577918e-19  1.83730556e-16\n",
      "   2.39888396e-18 -1.69098865e-18 -7.19311163e-19 -7.10026146e-19\n",
      "  -3.65324442e-19  5.94524759e-19  6.69677734e-19  1.53023359e-19]\n",
      " [-3.03322602e-19 -1.00805657e-18 -7.08772143e-19  1.15003282e-18\n",
      "   1.12529855e-18  7.70715885e-19 -1.34304104e-18 -1.65057434e-18\n",
      "  -9.48965158e-19  1.39495186e-18  5.66501136e-19  6.83456705e-19\n",
      "   2.29810808e-19  1.21471289e-18  4.47955512e-19 -1.02779406e-18\n",
      "  -1.00687496e-18 -8.16078769e-19 -1.37243803e-18  2.39888396e-18\n",
      "   1.54281483e-16  1.96309590e-19 -1.28622781e-18 -1.78976767e-18\n",
      "  -9.21409358e-19  5.70267956e-19  3.46895006e-19  4.25119127e-19]\n",
      " [ 3.08492645e-19 -1.73573487e-18 -2.56800234e-18  1.48593663e-19\n",
      "   1.13979233e-18  2.04076277e-18  6.51905456e-19 -3.39234463e-18\n",
      "  -2.78315879e-18  2.45449412e-19  3.09168279e-19  1.59258590e-18\n",
      "  -7.23129475e-19 -1.17863140e-18 -3.03174770e-19  1.32577227e-18\n",
      "   1.33876293e-18 -5.03935691e-19 -2.06601217e-18 -1.69098865e-18\n",
      "   1.96309590e-19  1.54202289e-16  1.97275478e-18 -1.28575839e-18\n",
      "  -8.43826000e-19 -2.95165081e-19 -4.22155827e-19  3.67027578e-19]\n",
      " [ 3.76698741e-19 -1.66181940e-18 -1.68334783e-18  4.70775648e-19\n",
      "   6.93857559e-19  1.16402496e-18  7.25387979e-19 -9.17999763e-19\n",
      "  -2.62936814e-18 -4.61683943e-19  4.78693490e-19  2.02400517e-18\n",
      "   3.78127469e-19 -5.05924971e-19 -6.99434789e-19  1.20888840e-18\n",
      "   9.01385536e-19 -1.77856723e-19 -6.35934649e-19 -7.19311163e-19\n",
      "  -1.28622781e-18  1.97275478e-18  1.31276359e-16 -1.49622729e-19\n",
      "  -1.17111287e-18 -1.51845822e-18 -2.62167484e-19  6.54897183e-19]\n",
      " [ 3.75129948e-19  1.11403682e-18  1.20634780e-18 -6.42584112e-19\n",
      "  -1.97149691e-18 -1.08400760e-18 -5.21212759e-19  1.76103969e-18\n",
      "   1.40127513e-18 -1.46580460e-18 -1.35416242e-18 -9.67686734e-19\n",
      "  -8.37167790e-19  1.28313641e-18 -6.63312953e-19 -1.04849757e-19\n",
      "   5.33612476e-19  5.45288693e-19  1.11471228e-18 -7.10026146e-19\n",
      "  -1.78976767e-18 -1.28575839e-18 -1.49622729e-19  1.31905455e-16\n",
      "   1.55579339e-18 -1.09514038e-18 -5.00130785e-19 -6.20628674e-19]\n",
      " [-7.41820667e-19  8.51063217e-19  1.31059429e-18 -1.20528222e-18\n",
      "  -1.45178456e-18 -7.48775352e-19 -6.31212003e-19  1.55188045e-18\n",
      "   1.67882821e-18  2.49317610e-19 -2.00365626e-18 -1.38075701e-18\n",
      "  -5.38302028e-19  1.57240528e-18  7.43223757e-19  4.26791000e-19\n",
      "  -1.93759278e-19  9.97739176e-19  5.81321489e-19 -3.65324442e-19\n",
      "  -9.21409358e-19 -8.43826000e-19 -1.17111287e-18  1.55579339e-18\n",
      "   1.13836728e-16  6.59316771e-20 -1.00089387e-18 -1.27733617e-18]\n",
      " [ 4.88516686e-19  3.69204209e-19  5.43292095e-19 -1.23924318e-19\n",
      "  -3.27535837e-19 -5.36516369e-19 -8.30234025e-19  3.35472703e-19\n",
      "   4.12572806e-19  2.60604102e-19  6.57651840e-20 -1.22547584e-18\n",
      "  -9.89858930e-19  9.42020992e-20 -1.49727316e-20  3.99752827e-19\n",
      "  -6.66183661e-19 -2.85358148e-19  5.47261407e-19  5.94524759e-19\n",
      "   5.70267956e-19 -2.95165081e-19 -1.51845822e-18 -1.09514038e-18\n",
      "   6.59316771e-20  1.13436091e-16  1.13324511e-18 -7.92101652e-19]\n",
      " [ 2.62218092e-19 -3.75578525e-19 -4.51224139e-19 -1.98883196e-19\n",
      "   1.62583798e-19 -5.22389929e-19 -1.38560782e-19  2.20856816e-19\n",
      "  -5.62382939e-19  2.35232544e-19  2.99224527e-19  2.87865473e-19\n",
      "  -1.03690754e-18 -2.44388292e-19 -8.73289561e-20  9.95860804e-19\n",
      "   2.95917803e-19  3.68593697e-19 -4.51044708e-19  6.69677734e-19\n",
      "   3.46895006e-19 -4.22155827e-19 -2.62167484e-19 -5.00130785e-19\n",
      "  -1.00089387e-18  1.13324511e-18  9.91879111e-17  7.45701263e-21]\n",
      " [-2.99060222e-20 -3.59951012e-19 -4.75394989e-19  1.45306682e-19\n",
      "   1.02371169e-18  7.91623391e-19  4.25928183e-19 -1.20383790e-18\n",
      "  -1.43181969e-18  1.87582139e-19  2.59799625e-19  8.75330081e-19\n",
      "   7.04929242e-19 -1.51104305e-18 -6.61052499e-19 -2.36675575e-19\n",
      "  -1.06601166e-19  4.29490594e-19 -9.12582663e-19  1.53023359e-19\n",
      "   4.25119127e-19  3.67027578e-19  6.54897183e-19 -6.20628674e-19\n",
      "  -1.27733617e-18 -7.92101652e-19  7.45701263e-21  9.90355958e-17]]\n"
     ]
    }
   ],
   "source": [
    "Nmat = spl.N.P_var.getN({**pout, 'B1855+09_gw_delay': mean, 'B1855+09_gw_variance': variance})\n",
    "print(np.sum(Nmat[:60,:60] - np.diag(np.diag(Nmat[:60,:60]))))\n",
    "print(Nmat[60:,60:])"
   ]
  },
  {
   "cell_type": "code",
   "execution_count": 516,
   "id": "ac0e4cb0",
   "metadata": {},
   "outputs": [],
   "source": [
    "pout = ds.sample_uniform([p for p in logl.params if 'gw' not in p])"
   ]
  },
  {
   "cell_type": "code",
   "execution_count": 519,
   "id": "97638634",
   "metadata": {},
   "outputs": [
    {
     "data": {
      "text/plain": [
       "Array(100143.63757598, dtype=float64)"
      ]
     },
     "execution_count": 519,
     "metadata": {},
     "output_type": "execute_result"
    }
   ],
   "source": [
    "logl({**pout, 'B1855+09_gw_delay': mean, 'B1855+09_gw_variance': variance})"
   ]
  },
  {
   "cell_type": "code",
   "execution_count": null,
   "id": "3e2ce996",
   "metadata": {},
   "outputs": [],
   "source": []
  }
 ],
 "metadata": {
  "kernelspec": {
   "display_name": "Python 3 (ipykernel)",
   "language": "python",
   "name": "python3"
  },
  "language_info": {
   "codemirror_mode": {
    "name": "ipython",
    "version": 3
   },
   "file_extension": ".py",
   "mimetype": "text/x-python",
   "name": "python",
   "nbconvert_exporter": "python",
   "pygments_lexer": "ipython3",
   "version": "3.11.3"
  }
 },
 "nbformat": 4,
 "nbformat_minor": 5
}
