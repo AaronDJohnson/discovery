{
 "cells": [
  {
   "cell_type": "code",
   "execution_count": 164,
   "id": "a7f70eba",
   "metadata": {},
   "outputs": [],
   "source": [
    "import pickle, json\n",
    "\n",
    "import discovery as ds\n",
    "\n",
    "import numpy as np\n",
    "import jax\n",
    "import jax.numpy as jnp\n",
    "\n",
    "import matplotlib.pyplot as pp"
   ]
  },
  {
   "cell_type": "code",
   "execution_count": 181,
   "id": "90aa93f2",
   "metadata": {},
   "outputs": [
    {
     "data": {
      "text/plain": [
       "<module 'discovery' from '/Users/vallis/Documents/discovery/src/discovery/__init__.py'>"
      ]
     },
     "execution_count": 181,
     "metadata": {},
     "output_type": "execute_result"
    }
   ],
   "source": [
    "import imp\n",
    "\n",
    "imp.reload(ds.matrix)\n",
    "imp.reload(ds.signals)\n",
    "imp.reload(ds.likelihood)\n",
    "imp.reload(ds.prior)\n",
    "imp.reload(ds.pulsar)\n",
    "imp.reload(ds)"
   ]
  },
  {
   "cell_type": "markdown",
   "id": "4caaf825",
   "metadata": {},
   "source": [
    "Load pulsars"
   ]
  },
  {
   "cell_type": "code",
   "execution_count": 166,
   "id": "28fc2dfb",
   "metadata": {},
   "outputs": [
    {
     "data": {
      "text/plain": [
       "[<discovery.pulsar.Pulsar at 0x1d9283810>,\n",
       " <discovery.pulsar.Pulsar at 0x1d98cfb50>]"
      ]
     },
     "execution_count": 166,
     "metadata": {},
     "output_type": "execute_result"
    }
   ],
   "source": [
    "psrfiles = !ls ../data\n",
    "psrs = [ds.Pulsar.read_feather(f'../data/{psrfile}') for psrfile in psrfiles[:2]]\n",
    "psrs"
   ]
  },
  {
   "cell_type": "markdown",
   "id": "fe5b5ce8",
   "metadata": {},
   "source": [
    "Standard model 3a"
   ]
  },
  {
   "cell_type": "code",
   "execution_count": 182,
   "id": "70eb68b4",
   "metadata": {},
   "outputs": [],
   "source": [
    "Tspan = ds.getspan(psrs)\n",
    "\n",
    "gbl = ds.GlobalLikelihood((ds.PulsarLikelihood([psr.residuals,\n",
    "                                                ds.makenoise_measurement(psr, psr.noisedict),\n",
    "                                                ds.makegp_ecorr(psr, psr.noisedict),\n",
    "                                                ds.makegp_timing(psr, variance=1e-14),\n",
    "                                                ds.makegp_fourier(psr, ds.powerlaw, 30, T=Tspan, name='rednoise')])\n",
    "                           for psr in psrs),\n",
    "                          ds.makegp_fourier_global(psrs, ds.powerlaw, ds.hd_orf, 14, T=Tspan, name='gw'))\n",
    "\n",
    "logl = gbl.logL"
   ]
  },
  {
   "cell_type": "code",
   "execution_count": 183,
   "id": "28b74fc0",
   "metadata": {},
   "outputs": [
    {
     "data": {
      "text/plain": [
       "{'B1855+09_rednoise_gamma': 6.337026790487537,\n",
       " 'B1855+09_rednoise_log10_A': -17.100943473787986,\n",
       " 'B1937+21_rednoise_gamma': 0.4449595245917949,\n",
       " 'B1937+21_rednoise_log10_A': -12.859995213958111,\n",
       " 'gw_log10_A': -12.968476457039607,\n",
       " 'gw_gamma': 5.870155173424073}"
      ]
     },
     "execution_count": 183,
     "metadata": {},
     "output_type": "execute_result"
    }
   ],
   "source": [
    "p0 = ds.sample_uniform(logl.params)\n",
    "p0"
   ]
  },
  {
   "cell_type": "code",
   "execution_count": 184,
   "id": "c322494f",
   "metadata": {},
   "outputs": [
    {
     "data": {
      "text/plain": [
       "Array(429841.62961266, dtype=float64)"
      ]
     },
     "execution_count": 184,
     "metadata": {},
     "output_type": "execute_result"
    }
   ],
   "source": [
    "logl(p0)"
   ]
  },
  {
   "cell_type": "markdown",
   "id": "a32712b5",
   "metadata": {},
   "source": [
    "Global GP with multiple components (different spectra and different ORFs)"
   ]
  },
  {
   "cell_type": "code",
   "execution_count": 185,
   "id": "01b57162",
   "metadata": {},
   "outputs": [],
   "source": [
    "Tspan = ds.getspan(psrs)\n",
    "\n",
    "gbl2 = ds.GlobalLikelihood((ds.PulsarLikelihood([psr.residuals,\n",
    "                                                ds.makenoise_measurement(psr, psr.noisedict),\n",
    "                                                ds.makegp_ecorr(psr, psr.noisedict),\n",
    "                                                ds.makegp_timing(psr, variance=1e-14),\n",
    "                                                ds.makegp_fourier(psr, ds.powerlaw, 30, T=Tspan, name='rednoise')])\n",
    "                            for psr in psrs),\n",
    "                           ds.makegp_fourier_global(psrs,\n",
    "                                                    [ds.powerlaw, ds.powerlaw],\n",
    "                                                    [ds.hd_orf, ds.dipole_orf],\n",
    "                                                    14, T=Tspan, name='gw'))\n",
    "\n",
    "logl2 = gbl2.logL"
   ]
  },
  {
   "cell_type": "markdown",
   "id": "2ae7474a",
   "metadata": {},
   "source": [
    "Note the parameter names follow from the orf functions"
   ]
  },
  {
   "cell_type": "code",
   "execution_count": 188,
   "id": "f785e943",
   "metadata": {},
   "outputs": [
    {
     "data": {
      "text/plain": [
       "{'B1855+09_rednoise_gamma': 1.3079309930662648,\n",
       " 'B1855+09_rednoise_log10_A': -11.5753220526957,\n",
       " 'B1937+21_rednoise_gamma': 4.803336230638544,\n",
       " 'B1937+21_rednoise_log10_A': -11.4686576928151,\n",
       " 'gw_dipoleorf_gamma': 4.14579350147083,\n",
       " 'gw_dipoleorf_log10_A': -16.360764555101827,\n",
       " 'gw_hdorf_gamma': 0.409405763199836,\n",
       " 'gw_hdorf_log10_A': -17.066065343608827}"
      ]
     },
     "execution_count": 188,
     "metadata": {},
     "output_type": "execute_result"
    }
   ],
   "source": [
    "p2 = ds.sample_uniform(logl2.params)\n",
    "p2"
   ]
  },
  {
   "cell_type": "code",
   "execution_count": 189,
   "id": "eb7be5a9",
   "metadata": {},
   "outputs": [
    {
     "data": {
      "text/plain": [
       "Array(440901.76079345, dtype=float64)"
      ]
     },
     "execution_count": 189,
     "metadata": {},
     "output_type": "execute_result"
    }
   ],
   "source": [
    "logl2(p2)"
   ]
  }
 ],
 "metadata": {
  "kernelspec": {
   "display_name": "Python 3 (ipykernel)",
   "language": "python",
   "name": "python3"
  },
  "language_info": {
   "codemirror_mode": {
    "name": "ipython",
    "version": 3
   },
   "file_extension": ".py",
   "mimetype": "text/x-python",
   "name": "python",
   "nbconvert_exporter": "python",
   "pygments_lexer": "ipython3",
   "version": "3.11.3"
  }
 },
 "nbformat": 4,
 "nbformat_minor": 5
}
