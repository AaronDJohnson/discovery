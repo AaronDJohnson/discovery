{
 "cells": [
  {
   "cell_type": "code",
   "execution_count": 90,
   "id": "f5e78098",
   "metadata": {},
   "outputs": [],
   "source": [
    "import pickle, json, typing\n",
    "\n",
    "import discovery as ds\n",
    "\n",
    "import numpy as np\n",
    "import pandas as pd\n",
    "import matplotlib.pyplot as pp\n",
    "\n",
    "import jax\n",
    "import jax.numpy as jnp"
   ]
  },
  {
   "cell_type": "code",
   "execution_count": 2,
   "id": "52e7e20c",
   "metadata": {},
   "outputs": [
    {
     "name": "stderr",
     "output_type": "stream",
     "text": [
      "/var/folders/4g/hbk3h5xd4xx3fhx604hn8d4h0000gn/T/ipykernel_60460/2920203772.py:1: DeprecationWarning: the imp module is deprecated in favour of importlib and slated for removal in Python 3.12; see the module's documentation for alternative uses\n",
      "  import imp\n"
     ]
    },
    {
     "data": {
      "text/plain": [
       "<module 'discovery' from '/Users/vallis/Documents/discovery/src/discovery/__init__.py'>"
      ]
     },
     "execution_count": 2,
     "metadata": {},
     "output_type": "execute_result"
    }
   ],
   "source": [
    "import imp\n",
    "\n",
    "imp.reload(ds.matrix)\n",
    "imp.reload(ds.signals)\n",
    "imp.reload(ds.likelihood)\n",
    "imp.reload(ds.prior)\n",
    "imp.reload(ds.pulsar)\n",
    "imp.reload(ds)"
   ]
  },
  {
   "cell_type": "markdown",
   "id": "88dce562",
   "metadata": {},
   "source": [
    "Load pulsars"
   ]
  },
  {
   "cell_type": "code",
   "execution_count": 3,
   "id": "3e5e03e0",
   "metadata": {},
   "outputs": [
    {
     "data": {
      "text/plain": [
       "[<discovery.pulsar.Pulsar at 0x28431c850>,\n",
       " <discovery.pulsar.Pulsar at 0x285977690>]"
      ]
     },
     "execution_count": 3,
     "metadata": {},
     "output_type": "execute_result"
    }
   ],
   "source": [
    "psrfiles = !ls ../data\n",
    "psrs = [ds.Pulsar.read_feather(f'../data/{psrfile}') for psrfile in psrfiles[:2]]\n",
    "psrs"
   ]
  },
  {
   "cell_type": "markdown",
   "id": "09c29722",
   "metadata": {},
   "source": [
    "Standard model 3a"
   ]
  },
  {
   "cell_type": "code",
   "execution_count": 4,
   "id": "26db0ee5",
   "metadata": {},
   "outputs": [],
   "source": [
    "Tspan = ds.getspan(psrs)\n",
    "\n",
    "gbl = ds.GlobalLikelihood((ds.PulsarLikelihood([psr.residuals,\n",
    "                                                ds.makenoise_measurement(psr, psr.noisedict),\n",
    "                                                ds.makegp_ecorr(psr, psr.noisedict),\n",
    "                                                ds.makegp_timing(psr, variance=1e-14),\n",
    "                                                ds.makegp_fourier(psr, ds.powerlaw, 30, T=Tspan, name='rednoise')])\n",
    "                           for psr in psrs),\n",
    "                          ds.makegp_fourier_global(psrs, ds.powerlaw, ds.hd_orf, 14, T=Tspan, name='gw'))\n",
    "\n",
    "logl = gbl.logL"
   ]
  },
  {
   "cell_type": "code",
   "execution_count": 5,
   "id": "a52a9fa3",
   "metadata": {},
   "outputs": [
    {
     "data": {
      "text/plain": [
       "{'B1855+09_rednoise_gamma': 5.6119111605995275,\n",
       " 'B1855+09_rednoise_log10_A': -16.35949563559086,\n",
       " 'B1937+21_rednoise_gamma': 0.5019082426723098,\n",
       " 'B1937+21_rednoise_log10_A': -15.39642086534419,\n",
       " 'gw_log10_A': -16.06931312018823,\n",
       " 'gw_gamma': 5.7386216846992}"
      ]
     },
     "execution_count": 5,
     "metadata": {},
     "output_type": "execute_result"
    }
   ],
   "source": [
    "p0 = ds.sample_uniform(logl.params)\n",
    "p0"
   ]
  },
  {
   "cell_type": "code",
   "execution_count": 6,
   "id": "c30a0818",
   "metadata": {},
   "outputs": [
    {
     "data": {
      "text/plain": [
       "Array(417438.47552066, dtype=float64)"
      ]
     },
     "execution_count": 6,
     "metadata": {},
     "output_type": "execute_result"
    }
   ],
   "source": [
    "logl(p0)"
   ]
  },
  {
   "cell_type": "markdown",
   "id": "d0bf56ee",
   "metadata": {},
   "source": [
    "Global GP with multiple components (different spectra and different ORFs)"
   ]
  },
  {
   "cell_type": "code",
   "execution_count": 7,
   "id": "c4ebe3d5",
   "metadata": {},
   "outputs": [],
   "source": [
    "Tspan = ds.getspan(psrs)\n",
    "\n",
    "gbl2 = ds.GlobalLikelihood((ds.PulsarLikelihood([psr.residuals,\n",
    "                                                ds.makenoise_measurement(psr, psr.noisedict),\n",
    "                                                ds.makegp_ecorr(psr, psr.noisedict),\n",
    "                                                ds.makegp_timing(psr, variance=1e-14),\n",
    "                                                ds.makegp_fourier(psr, ds.powerlaw, 30, T=Tspan, name='rednoise')])\n",
    "                            for psr in psrs),\n",
    "                           ds.makegp_fourier_global(psrs,\n",
    "                                                    [ds.powerlaw, ds.powerlaw],\n",
    "                                                    [ds.hd_orf, ds.dipole_orf],\n",
    "                                                    14, T=Tspan, name='gw'))\n",
    "\n",
    "logl2 = gbl2.logL"
   ]
  },
  {
   "cell_type": "markdown",
   "id": "4fefd449",
   "metadata": {},
   "source": [
    "Note the parameter names follow from the orf functions"
   ]
  },
  {
   "cell_type": "code",
   "execution_count": 8,
   "id": "5768f5eb",
   "metadata": {},
   "outputs": [
    {
     "data": {
      "text/plain": [
       "{'B1855+09_rednoise_gamma': 6.003178833888547,\n",
       " 'B1855+09_rednoise_log10_A': -14.863933519478525,\n",
       " 'B1937+21_rednoise_gamma': 5.905187126939223,\n",
       " 'B1937+21_rednoise_log10_A': -15.578657396432844,\n",
       " 'gw_dipoleorf_gamma': 6.669152449488989,\n",
       " 'gw_dipoleorf_log10_A': -13.742421143117573,\n",
       " 'gw_hdorf_gamma': 3.1335490892246476,\n",
       " 'gw_hdorf_log10_A': -13.10715493864475}"
      ]
     },
     "execution_count": 8,
     "metadata": {},
     "output_type": "execute_result"
    }
   ],
   "source": [
    "p2 = ds.sample_uniform(logl2.params)\n",
    "p2"
   ]
  },
  {
   "cell_type": "code",
   "execution_count": 9,
   "id": "45b28017",
   "metadata": {},
   "outputs": [
    {
     "data": {
      "text/plain": [
       "Array(441190.13899692, dtype=float64)"
      ]
     },
     "execution_count": 9,
     "metadata": {},
     "output_type": "execute_result"
    }
   ],
   "source": [
    "logl2(p2)"
   ]
  },
  {
   "cell_type": "markdown",
   "id": "3ac9d7ed",
   "metadata": {},
   "source": [
    "Conditional distribution"
   ]
  },
  {
   "cell_type": "code",
   "execution_count": 16,
   "id": "78faae22",
   "metadata": {},
   "outputs": [
    {
     "data": {
      "text/plain": [
       "<module 'discovery' from '/Users/vallis/Documents/discovery/src/discovery/__init__.py'>"
      ]
     },
     "execution_count": 16,
     "metadata": {},
     "output_type": "execute_result"
    }
   ],
   "source": [
    "import imp\n",
    "\n",
    "imp.reload(ds.matrix)\n",
    "imp.reload(ds.signals)\n",
    "imp.reload(ds.likelihood)\n",
    "imp.reload(ds.prior)\n",
    "imp.reload(ds.pulsar)\n",
    "imp.reload(ds)"
   ]
  },
  {
   "cell_type": "code",
   "execution_count": 17,
   "id": "ef3a73bd",
   "metadata": {},
   "outputs": [
    {
     "data": {
      "text/plain": [
       "[<discovery.pulsar.Pulsar at 0x2a6c1da50>,\n",
       " <discovery.pulsar.Pulsar at 0x2c9845d10>,\n",
       " <discovery.pulsar.Pulsar at 0x2cfa7b850>]"
      ]
     },
     "execution_count": 17,
     "metadata": {},
     "output_type": "execute_result"
    }
   ],
   "source": [
    "psrfiles = !ls ../data\n",
    "psrs = [ds.Pulsar.read_feather(f'../data/{psrfile}') for psrfile in psrfiles[:3]]\n",
    "psrs"
   ]
  },
  {
   "cell_type": "code",
   "execution_count": 18,
   "id": "87fd144a",
   "metadata": {},
   "outputs": [],
   "source": [
    "Tspan = ds.getspan(psrs)\n",
    "\n",
    "outpsr = 0\n",
    "outnoise = ds.makenoise_measurement_simple(psrs[0], {f'{psrs[outpsr].name}_efac': 1.0,\n",
    "                                                     f'{psrs[outpsr].name}_log10_t2equad': 0.0})\n",
    "\n",
    "gbl = ds.GlobalLikelihood([ds.PulsarLikelihood([psr.residuals,\n",
    "                                                outnoise if ipsr == outpsr else ds.makenoise_measurement(psr, psr.noisedict),\n",
    "                                                ds.makegp_ecorr(psr, psr.noisedict),\n",
    "                                                ds.makegp_timing(psr, variance=1e-14),\n",
    "                                                ds.makegp_fourier(psr, ds.powerlaw, 30, T=Tspan, name='rednoise')])\n",
    "                           for ipsr, psr in enumerate(psrs)],\n",
    "                          ds.makegp_fourier_global(psrs, ds.powerlaw, ds.hd_orf, 14, T=Tspan, name='gw'))\n",
    "\n",
    "cond = gbl.conditional"
   ]
  },
  {
   "cell_type": "code",
   "execution_count": 19,
   "id": "3f08dd04",
   "metadata": {},
   "outputs": [
    {
     "data": {
      "text/plain": [
       "['B1855+09_rednoise_gamma',\n",
       " 'B1855+09_rednoise_log10_A',\n",
       " 'B1937+21_rednoise_gamma',\n",
       " 'B1937+21_rednoise_log10_A',\n",
       " 'B1953+29_rednoise_gamma',\n",
       " 'B1953+29_rednoise_log10_A',\n",
       " 'gw_log10_A',\n",
       " 'gw_gamma']"
      ]
     },
     "execution_count": 19,
     "metadata": {},
     "output_type": "execute_result"
    }
   ],
   "source": [
    "cond.params"
   ]
  },
  {
   "cell_type": "code",
   "execution_count": 31,
   "id": "290be1ef",
   "metadata": {},
   "outputs": [],
   "source": [
    "p0 = ds.sample_uniform(cond.params)"
   ]
  },
  {
   "cell_type": "code",
   "execution_count": 32,
   "id": "ffacf890",
   "metadata": {},
   "outputs": [],
   "source": [
    "cdist = cond(p0)"
   ]
  },
  {
   "cell_type": "code",
   "execution_count": 33,
   "id": "8a11187c",
   "metadata": {},
   "outputs": [
    {
     "data": {
      "text/plain": [
       "Array([ 4.46895733e-11,  7.86861565e-11, -5.66801649e-11,  5.21304143e-11,\n",
       "       -1.58547713e-09,  1.16551804e-09, -8.63106967e-10,  4.07532032e-09,\n",
       "        1.60643073e-09,  9.94700429e-09, -8.00332809e-10,  1.53170783e-08,\n",
       "       -6.97962340e-09,  8.89280991e-09, -3.82158844e-09, -4.54742734e-09,\n",
       "        3.48602561e-09, -5.16238232e-09, -1.33695262e-09,  1.93845692e-09,\n",
       "       -8.83312174e-09,  1.37260854e-09, -7.19800093e-09, -1.13829452e-09,\n",
       "       -3.45180319e-09, -3.99506457e-10, -2.15847754e-09, -1.68079123e-09],      dtype=float64)"
      ]
     },
     "execution_count": 33,
     "metadata": {},
     "output_type": "execute_result"
    }
   ],
   "source": [
    "cdist[0][:28]"
   ]
  },
  {
   "cell_type": "code",
   "execution_count": 34,
   "id": "80cce43c",
   "metadata": {},
   "outputs": [
    {
     "data": {
      "text/plain": [
       "Array([ 1.09446407e-10,  2.02423197e-10, -5.02716224e-11,  1.14755624e-10,\n",
       "       -2.50062314e-09,  1.80261778e-09, -1.38306632e-09,  6.43056380e-09,\n",
       "        2.54262976e-09,  1.57006482e-08, -1.26224424e-09,  2.41800452e-08,\n",
       "       -1.10183876e-08,  1.40329668e-08, -6.03644121e-09, -7.19169570e-09,\n",
       "        5.49386446e-09, -8.13975195e-09, -2.10328150e-09,  3.07229938e-09,\n",
       "       -1.39461048e-08,  2.15488758e-09, -1.13718762e-08, -1.78979239e-09,\n",
       "       -5.43590088e-09, -6.27519453e-10, -3.40919393e-09, -2.65494274e-09],      dtype=float64)"
      ]
     },
     "execution_count": 34,
     "metadata": {},
     "output_type": "execute_result"
    }
   ],
   "source": [
    "cdist[0][28:56]"
   ]
  },
  {
   "cell_type": "markdown",
   "id": "f27f6c44",
   "metadata": {},
   "source": [
    "Check that the prediction is insensitive to outpsr, but not to the others."
   ]
  },
  {
   "cell_type": "code",
   "execution_count": 35,
   "id": "efbee236",
   "metadata": {},
   "outputs": [],
   "source": [
    "p1 = {**p0, f'{psrs[outpsr].name}_rednoise_gamma': 4.0, f'{psrs[outpsr].name}_rednoise_log10_A': -15.0}"
   ]
  },
  {
   "cell_type": "code",
   "execution_count": 36,
   "id": "32d1c11e",
   "metadata": {},
   "outputs": [
    {
     "data": {
      "text/plain": [
       "Array([-3.87740912e-26,  1.29246971e-26,  0.00000000e+00,  0.00000000e+00,\n",
       "        0.00000000e+00,  0.00000000e+00,  0.00000000e+00,  0.00000000e+00,\n",
       "        0.00000000e+00,  0.00000000e+00,  0.00000000e+00,  0.00000000e+00,\n",
       "        0.00000000e+00,  0.00000000e+00,  0.00000000e+00,  0.00000000e+00,\n",
       "        0.00000000e+00,  0.00000000e+00,  0.00000000e+00,  0.00000000e+00,\n",
       "        0.00000000e+00,  0.00000000e+00,  0.00000000e+00,  0.00000000e+00,\n",
       "        0.00000000e+00,  0.00000000e+00,  0.00000000e+00,  0.00000000e+00],      dtype=float64)"
      ]
     },
     "execution_count": 36,
     "metadata": {},
     "output_type": "execute_result"
    }
   ],
   "source": [
    "cond(p1)[0][:28] - cdist[0][:28]"
   ]
  },
  {
   "cell_type": "code",
   "execution_count": 37,
   "id": "04b95e62",
   "metadata": {},
   "outputs": [],
   "source": [
    "p2 = {**p0, f'{psrs[outpsr+1].name}_rednoise_gamma': 4.0, f'{psrs[outpsr+1].name}_rednoise_log10_A': -15.0}"
   ]
  },
  {
   "cell_type": "code",
   "execution_count": 38,
   "id": "53bd2ae0",
   "metadata": {},
   "outputs": [
    {
     "data": {
      "text/plain": [
       "Array([ 8.49072814e-07,  1.66280476e-06,  5.28379853e-07,  4.57972398e-07,\n",
       "        3.78560753e-08, -3.35389694e-07, -1.36224202e-07, -5.18684020e-08,\n",
       "        1.03362150e-08, -5.02732445e-09,  2.58353365e-08,  1.33474750e-08,\n",
       "       -2.34281863e-09, -4.88793770e-08, -2.89311648e-08, -2.20320386e-08,\n",
       "       -3.71197075e-09,  2.90077884e-08,  5.51192465e-09,  1.26535775e-08,\n",
       "       -1.08733561e-08, -8.16423541e-09, -1.36996601e-09,  6.76778844e-09,\n",
       "        9.78727948e-09,  1.55570211e-13,  3.46148374e-09,  1.57174236e-08],      dtype=float64)"
      ]
     },
     "execution_count": 38,
     "metadata": {},
     "output_type": "execute_result"
    }
   ],
   "source": [
    "cond(p2)[0][:28] - cdist[0][:28]"
   ]
  },
  {
   "cell_type": "markdown",
   "id": "f052f34d",
   "metadata": {},
   "source": [
    "The second term in the conditional is `cf = L^-1` where S = L L^T is the variance of the normal distribution."
   ]
  },
  {
   "cell_type": "code",
   "execution_count": 39,
   "id": "2af6e865",
   "metadata": {},
   "outputs": [],
   "source": [
    "outrange  = slice(outpsr*28, (outpsr+1)*28)\n",
    "\n",
    "mean      = cdist[0][outrange]\n",
    "righthand = jnp.identity(len(cdist[0]))[:, outrange]\n",
    "sigmalow  = ds.matrix.jsp.linalg.cho_solve(cdist[1], righthand)\n",
    "variance  = sigmalow[outrange, :]"
   ]
  },
  {
   "cell_type": "markdown",
   "id": "dd5517b0",
   "metadata": {},
   "source": [
    "Check that the mean matches. Note this requires that a list be fed to ds.GlobalLikelihood above, but it can be safely changed to a generator in production."
   ]
  },
  {
   "cell_type": "code",
   "execution_count": 40,
   "id": "6c583030",
   "metadata": {},
   "outputs": [
    {
     "data": {
      "text/plain": [
       "Array([-1.93870456e-26, -1.29246971e-26,  5.16987883e-26, -6.46234854e-27,\n",
       "       -8.27180613e-25,  0.00000000e+00,  5.16987883e-25, -8.27180613e-25,\n",
       "       -1.24077092e-24, -8.27180613e-24, -4.13590306e-25,  3.30872245e-24,\n",
       "       -4.96308368e-24, -3.30872245e-24, -2.48154184e-24, -1.65436123e-24,\n",
       "        2.06795153e-24,  3.30872245e-24,  2.06795153e-25,  8.27180613e-25,\n",
       "        3.30872245e-24,  2.06795153e-25,  0.00000000e+00,  2.06795153e-25,\n",
       "        0.00000000e+00, -1.03397577e-25,  0.00000000e+00,  8.27180613e-25],      dtype=float64)"
      ]
     },
     "execution_count": 40,
     "metadata": {},
     "output_type": "execute_result"
    }
   ],
   "source": [
    "ksolves = [psl.N.make_kernelsolve(psl.y, F) for psl, F in zip(gbl.psls, gbl.globalgp.Fs)]\n",
    "FtNmy = ds.matrix.jnp.concatenate([ksolve(p0)[0] for ksolve in ksolves])\n",
    "ds.matrix.jnp.dot(sigmalow.T, FtNmy) - cdist[0][:28]"
   ]
  },
  {
   "cell_type": "code",
   "execution_count": 83,
   "id": "43e53eb9",
   "metadata": {},
   "outputs": [
    {
     "data": {
      "text/plain": [
       "<module 'discovery' from '/Users/vallis/Documents/discovery/src/discovery/__init__.py'>"
      ]
     },
     "execution_count": 83,
     "metadata": {},
     "output_type": "execute_result"
    }
   ],
   "source": [
    "import imp\n",
    "\n",
    "imp.reload(ds.matrix)\n",
    "imp.reload(ds.signals)\n",
    "imp.reload(ds.likelihood)\n",
    "imp.reload(ds.prior)\n",
    "imp.reload(ds.pulsar)\n",
    "imp.reload(ds)"
   ]
  },
  {
   "cell_type": "code",
   "execution_count": 84,
   "id": "916e1887",
   "metadata": {},
   "outputs": [],
   "source": [
    "psr = psrs[outpsr]\n",
    "spl = ds.PulsarLikelihood([psr.residuals,\n",
    "                           ds.makenoise_measurement(psr, psr.noisedict),\n",
    "                           ds.makegp_ecorr(psr, psr.noisedict),\n",
    "                           ds.makegp_timing(psr, variance=1e-14),\n",
    "                           ds.makegp_fourier(psr, ds.powerlaw, 30, T=Tspan, name='rednoise'),\n",
    "                           ds.makegp_fourier_delay(psr, 14, T=Tspan, name='gw'),\n",
    "                           ds.makegp_fourier_variance(psr, 14, T=Tspan, name='gw')\n",
    "                           ])\n",
    "\n",
    "logl = spl.logL"
   ]
  },
  {
   "cell_type": "code",
   "execution_count": 85,
   "id": "49a47cf7",
   "metadata": {},
   "outputs": [
    {
     "data": {
      "text/plain": [
       "['B1855+09_gw_mean(28)',\n",
       " 'B1855+09_gw_variance(28,28)',\n",
       " 'B1855+09_rednoise_gamma',\n",
       " 'B1855+09_rednoise_log10_A']"
      ]
     },
     "execution_count": 85,
     "metadata": {},
     "output_type": "execute_result"
    }
   ],
   "source": [
    "logl.params"
   ]
  },
  {
   "cell_type": "markdown",
   "id": "86730a8c",
   "metadata": {},
   "source": [
    "Check"
   ]
  },
  {
   "cell_type": "code",
   "execution_count": 511,
   "id": "3c694877",
   "metadata": {},
   "outputs": [
    {
     "name": "stdout",
     "output_type": "stream",
     "text": [
      "0.0\n",
      "[[ 1.31494579e-14  4.00657769e-18 -2.98759762e-17 -2.79209532e-17\n",
      "   1.29008727e-18  1.01109141e-17  6.00787470e-19  5.59450723e-18\n",
      "  -4.55038036e-19  1.08262617e-18  6.30991243e-18 -3.21841822e-18\n",
      "  -3.23834052e-18 -3.51155943e-18 -4.35746231e-18  4.11263501e-18\n",
      "   3.35445373e-18 -1.81548818e-19 -5.77642544e-19 -2.96220468e-18\n",
      "  -3.03322602e-19  3.08492645e-19  3.76698741e-19  3.75129948e-19\n",
      "  -7.41820667e-19  4.88516686e-19  2.62218092e-19 -2.99060222e-20]\n",
      " [ 4.00657769e-18  1.31587101e-14  1.86841513e-17 -1.57723352e-17\n",
      "   2.75108707e-18 -1.74774799e-18  1.69474047e-18  7.00973434e-18\n",
      "   9.77371427e-18 -2.37697012e-18  1.39459387e-19 -2.71489306e-18\n",
      "   4.44432547e-18  2.16579908e-18  2.26171643e-18 -3.68347619e-18\n",
      "  -2.79487602e-20  2.26300804e-19  9.55471234e-19  1.73020885e-19\n",
      "  -1.00805657e-18 -1.73573487e-18 -1.66181940e-18  1.11403682e-18\n",
      "   8.51063217e-19  3.69204209e-19 -3.75578525e-19 -3.59951012e-19]\n",
      " [-2.98759762e-17  1.86841513e-17  3.59608561e-15  8.36058937e-18\n",
      "  -1.31453007e-17 -1.08940507e-17 -7.14377443e-19  8.89123403e-18\n",
      "   9.45249710e-18 -1.05861874e-18 -4.65547085e-18 -3.07764943e-18\n",
      "   2.15668152e-18  3.02912027e-18  2.05366812e-18 -4.16511383e-18\n",
      "  -4.06736298e-18  2.02706114e-19  2.46215932e-18  1.47307986e-19\n",
      "  -7.08772143e-19 -2.56800234e-18 -1.68334783e-18  1.20634780e-18\n",
      "   1.31059429e-18  5.43292095e-19 -4.51224139e-19 -4.75394989e-19]\n",
      " [-2.79209532e-17 -1.57723352e-17  8.36058937e-18  3.59208620e-15\n",
      "   1.40273080e-17 -8.43279746e-18  1.59083801e-18 -4.45025647e-18\n",
      "  -4.06659179e-18 -1.29763797e-18  2.03034225e-18  2.59943831e-18\n",
      "   3.88425296e-18  1.74571033e-18  3.26295195e-18 -2.67484962e-18\n",
      "  -2.77526715e-18 -2.71305301e-18 -2.88981577e-19  1.31875064e-18\n",
      "   1.15003282e-18  1.48593663e-19  4.70775648e-19 -6.42584112e-19\n",
      "  -1.20528222e-18 -1.23924318e-19 -1.98883196e-19  1.45306682e-19]\n",
      " [ 1.29008727e-18  2.75108707e-18 -1.31453007e-17  1.40273080e-17\n",
      "   1.68703558e-15  5.72010494e-18 -8.18473090e-19 -1.18603481e-17\n",
      "  -6.43507901e-18  3.00327385e-18  3.69335655e-18  4.83360987e-18\n",
      "   1.53290775e-18 -2.97789129e-18  7.62740227e-19 -1.58371379e-18\n",
      "   1.76423895e-19 -2.96228832e-18 -3.25368763e-18  6.19307890e-19\n",
      "   1.12529855e-18  1.13979233e-18  6.93857559e-19 -1.97149691e-18\n",
      "  -1.45178456e-18 -3.27535837e-19  1.62583798e-19  1.02371169e-18]\n",
      " [ 1.01109141e-17 -1.74774799e-18 -1.08940507e-17 -8.43279746e-18\n",
      "   5.72010494e-18  1.68398306e-15  6.28281396e-18 -1.17636211e-17\n",
      "  -4.45439695e-18  1.32134033e-18  2.85213309e-18  2.86715341e-18\n",
      "   1.50670534e-18 -3.43772897e-18 -1.22938381e-18  2.61715652e-18\n",
      "   3.08736016e-18 -9.70214881e-19 -2.18456605e-18 -2.47966295e-18\n",
      "   7.70715885e-19  2.04076277e-18  1.16402496e-18 -1.08400760e-18\n",
      "  -7.48775352e-19 -5.36516369e-19 -5.22389929e-19  7.91623391e-19]\n",
      " [ 6.00787470e-19  1.69474047e-18 -7.14377443e-19  1.59083801e-18\n",
      "  -8.18473090e-19  6.28281396e-18  9.83740339e-16 -6.06574423e-19\n",
      "  -4.56260364e-18 -3.42505557e-18  3.68087276e-19  2.48789040e-18\n",
      "   1.51575654e-18 -5.82629740e-19 -2.04212690e-19 -1.67119355e-18\n",
      "   1.10859632e-18 -9.96316508e-19 -8.55055816e-19 -1.45811059e-18\n",
      "  -1.34304104e-18  6.51905456e-19  7.25387979e-19 -5.21212759e-19\n",
      "  -6.31212003e-19 -8.30234025e-19 -1.38560782e-19  4.25928183e-19]\n",
      " [ 5.59450723e-18  7.00973434e-18  8.89123403e-18 -4.45025647e-18\n",
      "  -1.18603481e-17 -1.17636211e-17 -6.06574423e-19  9.92007578e-16\n",
      "   1.16194780e-17 -5.15824393e-18 -3.86186476e-18 -4.94324374e-18\n",
      "  -2.24514657e-18  3.62364481e-18  1.92271216e-18 -1.30059288e-18\n",
      "  -4.98120027e-19  1.68865950e-18  3.60997663e-18 -5.63606814e-20\n",
      "  -1.65057434e-18 -3.39234463e-18 -9.17999763e-19  1.76103969e-18\n",
      "   1.55188045e-18  3.35472703e-19  2.20856816e-19 -1.20383790e-18]\n",
      " [-4.55038036e-19  9.77371427e-18  9.45249710e-18 -4.06659179e-18\n",
      "  -6.43507901e-18 -4.45439695e-18 -4.56260364e-18  1.16194780e-17\n",
      "   6.57025603e-16 -8.32607563e-19 -5.21850444e-18 -7.64687659e-18\n",
      "  -1.27040698e-18  3.10263328e-18  1.80387249e-18 -1.73243865e-19\n",
      "  -1.08082769e-18 -5.26953412e-19  2.37244844e-18 -7.32481706e-19\n",
      "  -9.48965158e-19 -2.78315879e-18 -2.62936814e-18  1.40127513e-18\n",
      "   1.67882821e-18  4.12572806e-19 -5.62382939e-19 -1.43181969e-18]\n",
      " [ 1.08262617e-18 -2.37697012e-18 -1.05861874e-18 -1.29763797e-18\n",
      "   3.00327385e-18  1.32134033e-18 -3.42505557e-18 -5.15824393e-18\n",
      "  -8.32607563e-19  6.51145557e-16  4.25843098e-18 -2.68143869e-18\n",
      "  -2.30411906e-18 -2.22014305e-18 -1.48662179e-18  2.04653100e-18\n",
      "   2.27865000e-18 -1.72911922e-19 -3.55867952e-19  2.88680884e-19\n",
      "   1.39495186e-18  2.45449412e-19 -4.61683943e-19 -1.46580460e-18\n",
      "   2.49317610e-19  2.60604102e-19  2.35232544e-19  1.87582139e-19]\n",
      " [ 6.30991243e-18  1.39459387e-19 -4.65547085e-18  2.03034225e-18\n",
      "   3.69335655e-18  2.85213309e-18  3.68087276e-19 -3.86186476e-18\n",
      "  -5.21850444e-18  4.25843098e-18  4.67830929e-16  4.12445906e-19\n",
      "  -3.17254378e-18 -5.46264741e-18 -1.95373073e-18  2.90526323e-18\n",
      "   2.36950719e-18  7.15994914e-20 -1.19160673e-18 -1.75614281e-18\n",
      "   5.66501136e-19  3.09168279e-19  4.78693490e-19 -1.35416242e-18\n",
      "  -2.00365626e-18  6.57651840e-20  2.99224527e-19  2.59799625e-19]\n",
      " [-3.21841822e-18 -2.71489306e-18 -3.07764943e-18  2.59943831e-18\n",
      "   4.83360987e-18  2.86715341e-18  2.48789040e-18 -4.94324374e-18\n",
      "  -7.64687659e-18 -2.68143869e-18  4.12445906e-19  4.67056459e-16\n",
      "   4.06667071e-18 -3.16318349e-18 -1.21390268e-18 -1.12517900e-18\n",
      "  -1.16245676e-18  4.66409901e-19  3.46195133e-19  1.34681199e-19\n",
      "   6.83456705e-19  1.59258590e-18  2.02400517e-18 -9.67686734e-19\n",
      "  -1.38075701e-18 -1.22547584e-18  2.87865473e-19  8.75330081e-19]\n",
      " [-3.23834052e-18  4.44432547e-18  2.15668152e-18  3.88425296e-18\n",
      "   1.53290775e-18  1.50670534e-18  1.51575654e-18 -2.24514657e-18\n",
      "  -1.27040698e-18 -2.30411906e-18 -3.17254378e-18  4.06667071e-18\n",
      "   3.51876822e-16  7.59374529e-19 -1.57339955e-18 -4.59265773e-18\n",
      "  -1.82633010e-18  9.70523404e-19  5.31760123e-19  9.43731877e-19\n",
      "   2.29810808e-19 -7.23129475e-19  3.78127469e-19 -8.37167790e-19\n",
      "  -5.38302028e-19 -9.89858930e-19 -1.03690754e-18  7.04929242e-19]\n",
      " [-3.51155943e-18  2.16579908e-18  3.02912027e-18  1.74571033e-18\n",
      "  -2.97789129e-18 -3.43772897e-18 -5.82629740e-19  3.62364481e-18\n",
      "   3.10263328e-18 -2.22014305e-18 -5.46264741e-18 -3.16318349e-18\n",
      "   7.59374529e-19  3.52549250e-16  3.50591023e-18 -3.53005557e-18\n",
      "  -2.33666466e-18 -6.67486499e-19  6.11616673e-20  1.59208267e-18\n",
      "   1.21471289e-18 -1.17863140e-18 -5.05924971e-19  1.28313641e-18\n",
      "   1.57240528e-18  9.42020992e-20 -2.44388292e-19 -1.51104305e-18]\n",
      " [-4.35746231e-18  2.26171643e-18  2.05366812e-18  3.26295195e-18\n",
      "   7.62740227e-19 -1.22938381e-18 -2.04212690e-19  1.92271216e-18\n",
      "   1.80387249e-18 -1.48662179e-18 -1.95373073e-18 -1.21390268e-18\n",
      "  -1.57339955e-18  3.50591023e-18  2.75330544e-16 -7.65469830e-19\n",
      "  -2.76128700e-18 -2.76885771e-18 -1.37859970e-19  1.65496632e-18\n",
      "   4.47955512e-19 -3.03174770e-19 -6.99434789e-19 -6.63312953e-19\n",
      "   7.43223757e-19 -1.49727316e-20 -8.73289561e-20 -6.61052499e-19]\n",
      " [ 4.11263501e-18 -3.68347619e-18 -4.16511383e-18 -2.67484962e-18\n",
      "  -1.58371379e-18  2.61715652e-18 -1.67119355e-18 -1.30059288e-18\n",
      "  -1.73243865e-19  2.04653100e-18  2.90526323e-18 -1.12517900e-18\n",
      "  -4.59265773e-18 -3.53005557e-18 -7.65469830e-19  2.76588043e-16\n",
      "   3.78243670e-18 -1.59601178e-18 -1.08523510e-18 -1.64143879e-18\n",
      "  -1.02779406e-18  1.32577227e-18  1.20888840e-18 -1.04849757e-19\n",
      "   4.26791000e-19  3.99752827e-19  9.95860804e-19 -2.36675575e-19]\n",
      " [ 3.35445373e-18 -2.79487602e-20 -4.06736298e-18 -2.77526715e-18\n",
      "   1.76423895e-19  3.08736016e-18  1.10859632e-18 -4.98120027e-19\n",
      "  -1.08082769e-18  2.27865000e-18  2.36950719e-18 -1.16245676e-18\n",
      "  -1.82633010e-18 -2.33666466e-18 -2.76128700e-18  3.78243670e-18\n",
      "   2.23187072e-16  3.44372670e-19 -2.26485922e-18 -3.29787775e-18\n",
      "  -1.00687496e-18  1.33876293e-18  9.01385536e-19  5.33612476e-19\n",
      "  -1.93759278e-19 -6.66183661e-19  2.95917803e-19 -1.06601166e-19]\n",
      " [-1.81548818e-19  2.26300804e-19  2.02706114e-19 -2.71305301e-18\n",
      "  -2.96228832e-18 -9.70214881e-19 -9.96316508e-19  1.68865950e-18\n",
      "  -5.26953412e-19 -1.72911922e-19  7.15994914e-20  4.66409901e-19\n",
      "   9.70523404e-19 -6.67486499e-19 -2.76885771e-18 -1.59601178e-18\n",
      "   3.44372670e-19  2.21747686e-16  1.97511968e-18 -1.41259779e-18\n",
      "  -8.16078769e-19 -5.03935691e-19 -1.77856723e-19  5.45288693e-19\n",
      "   9.97739176e-19 -2.85358148e-19  3.68593697e-19  4.29490594e-19]\n",
      " [-5.77642544e-19  9.55471234e-19  2.46215932e-18 -2.88981577e-19\n",
      "  -3.25368763e-18 -2.18456605e-18 -8.55055816e-19  3.60997663e-18\n",
      "   2.37244844e-18 -3.55867952e-19 -1.19160673e-18  3.46195133e-19\n",
      "   5.31760123e-19  6.11616673e-20 -1.37859970e-19 -1.08523510e-18\n",
      "  -2.26485922e-18  1.97511968e-18  1.83203079e-16  2.64577918e-19\n",
      "  -1.37243803e-18 -2.06601217e-18 -6.35934649e-19  1.11471228e-18\n",
      "   5.81321489e-19  5.47261407e-19 -4.51044708e-19 -9.12582663e-19]\n",
      " [-2.96220468e-18  1.73020885e-19  1.47307986e-19  1.31875064e-18\n",
      "   6.19307890e-19 -2.47966295e-18 -1.45811059e-18 -5.63606814e-20\n",
      "  -7.32481706e-19  2.88680884e-19 -1.75614281e-18  1.34681199e-19\n",
      "   9.43731877e-19  1.59208267e-18  1.65496632e-18 -1.64143879e-18\n",
      "  -3.29787775e-18 -1.41259779e-18  2.64577918e-19  1.83730556e-16\n",
      "   2.39888396e-18 -1.69098865e-18 -7.19311163e-19 -7.10026146e-19\n",
      "  -3.65324442e-19  5.94524759e-19  6.69677734e-19  1.53023359e-19]\n",
      " [-3.03322602e-19 -1.00805657e-18 -7.08772143e-19  1.15003282e-18\n",
      "   1.12529855e-18  7.70715885e-19 -1.34304104e-18 -1.65057434e-18\n",
      "  -9.48965158e-19  1.39495186e-18  5.66501136e-19  6.83456705e-19\n",
      "   2.29810808e-19  1.21471289e-18  4.47955512e-19 -1.02779406e-18\n",
      "  -1.00687496e-18 -8.16078769e-19 -1.37243803e-18  2.39888396e-18\n",
      "   1.54281483e-16  1.96309590e-19 -1.28622781e-18 -1.78976767e-18\n",
      "  -9.21409358e-19  5.70267956e-19  3.46895006e-19  4.25119127e-19]\n",
      " [ 3.08492645e-19 -1.73573487e-18 -2.56800234e-18  1.48593663e-19\n",
      "   1.13979233e-18  2.04076277e-18  6.51905456e-19 -3.39234463e-18\n",
      "  -2.78315879e-18  2.45449412e-19  3.09168279e-19  1.59258590e-18\n",
      "  -7.23129475e-19 -1.17863140e-18 -3.03174770e-19  1.32577227e-18\n",
      "   1.33876293e-18 -5.03935691e-19 -2.06601217e-18 -1.69098865e-18\n",
      "   1.96309590e-19  1.54202289e-16  1.97275478e-18 -1.28575839e-18\n",
      "  -8.43826000e-19 -2.95165081e-19 -4.22155827e-19  3.67027578e-19]\n",
      " [ 3.76698741e-19 -1.66181940e-18 -1.68334783e-18  4.70775648e-19\n",
      "   6.93857559e-19  1.16402496e-18  7.25387979e-19 -9.17999763e-19\n",
      "  -2.62936814e-18 -4.61683943e-19  4.78693490e-19  2.02400517e-18\n",
      "   3.78127469e-19 -5.05924971e-19 -6.99434789e-19  1.20888840e-18\n",
      "   9.01385536e-19 -1.77856723e-19 -6.35934649e-19 -7.19311163e-19\n",
      "  -1.28622781e-18  1.97275478e-18  1.31276359e-16 -1.49622729e-19\n",
      "  -1.17111287e-18 -1.51845822e-18 -2.62167484e-19  6.54897183e-19]\n",
      " [ 3.75129948e-19  1.11403682e-18  1.20634780e-18 -6.42584112e-19\n",
      "  -1.97149691e-18 -1.08400760e-18 -5.21212759e-19  1.76103969e-18\n",
      "   1.40127513e-18 -1.46580460e-18 -1.35416242e-18 -9.67686734e-19\n",
      "  -8.37167790e-19  1.28313641e-18 -6.63312953e-19 -1.04849757e-19\n",
      "   5.33612476e-19  5.45288693e-19  1.11471228e-18 -7.10026146e-19\n",
      "  -1.78976767e-18 -1.28575839e-18 -1.49622729e-19  1.31905455e-16\n",
      "   1.55579339e-18 -1.09514038e-18 -5.00130785e-19 -6.20628674e-19]\n",
      " [-7.41820667e-19  8.51063217e-19  1.31059429e-18 -1.20528222e-18\n",
      "  -1.45178456e-18 -7.48775352e-19 -6.31212003e-19  1.55188045e-18\n",
      "   1.67882821e-18  2.49317610e-19 -2.00365626e-18 -1.38075701e-18\n",
      "  -5.38302028e-19  1.57240528e-18  7.43223757e-19  4.26791000e-19\n",
      "  -1.93759278e-19  9.97739176e-19  5.81321489e-19 -3.65324442e-19\n",
      "  -9.21409358e-19 -8.43826000e-19 -1.17111287e-18  1.55579339e-18\n",
      "   1.13836728e-16  6.59316771e-20 -1.00089387e-18 -1.27733617e-18]\n",
      " [ 4.88516686e-19  3.69204209e-19  5.43292095e-19 -1.23924318e-19\n",
      "  -3.27535837e-19 -5.36516369e-19 -8.30234025e-19  3.35472703e-19\n",
      "   4.12572806e-19  2.60604102e-19  6.57651840e-20 -1.22547584e-18\n",
      "  -9.89858930e-19  9.42020992e-20 -1.49727316e-20  3.99752827e-19\n",
      "  -6.66183661e-19 -2.85358148e-19  5.47261407e-19  5.94524759e-19\n",
      "   5.70267956e-19 -2.95165081e-19 -1.51845822e-18 -1.09514038e-18\n",
      "   6.59316771e-20  1.13436091e-16  1.13324511e-18 -7.92101652e-19]\n",
      " [ 2.62218092e-19 -3.75578525e-19 -4.51224139e-19 -1.98883196e-19\n",
      "   1.62583798e-19 -5.22389929e-19 -1.38560782e-19  2.20856816e-19\n",
      "  -5.62382939e-19  2.35232544e-19  2.99224527e-19  2.87865473e-19\n",
      "  -1.03690754e-18 -2.44388292e-19 -8.73289561e-20  9.95860804e-19\n",
      "   2.95917803e-19  3.68593697e-19 -4.51044708e-19  6.69677734e-19\n",
      "   3.46895006e-19 -4.22155827e-19 -2.62167484e-19 -5.00130785e-19\n",
      "  -1.00089387e-18  1.13324511e-18  9.91879111e-17  7.45701263e-21]\n",
      " [-2.99060222e-20 -3.59951012e-19 -4.75394989e-19  1.45306682e-19\n",
      "   1.02371169e-18  7.91623391e-19  4.25928183e-19 -1.20383790e-18\n",
      "  -1.43181969e-18  1.87582139e-19  2.59799625e-19  8.75330081e-19\n",
      "   7.04929242e-19 -1.51104305e-18 -6.61052499e-19 -2.36675575e-19\n",
      "  -1.06601166e-19  4.29490594e-19 -9.12582663e-19  1.53023359e-19\n",
      "   4.25119127e-19  3.67027578e-19  6.54897183e-19 -6.20628674e-19\n",
      "  -1.27733617e-18 -7.92101652e-19  7.45701263e-21  9.90355958e-17]]\n"
     ]
    }
   ],
   "source": [
    "Nmat = spl.N.P_var.getN({**pout, 'B1855+09_gw_delay': mean, 'B1855+09_gw_variance': variance})\n",
    "print(np.sum(Nmat[:60,:60] - np.diag(np.diag(Nmat[:60,:60]))))\n",
    "print(Nmat[60:,60:])"
   ]
  },
  {
   "cell_type": "code",
   "execution_count": 86,
   "id": "ac0e4cb0",
   "metadata": {},
   "outputs": [],
   "source": [
    "pout = ds.sample_uniform([p for p in logl.params if 'gw' not in p])"
   ]
  },
  {
   "cell_type": "code",
   "execution_count": 87,
   "id": "97638634",
   "metadata": {},
   "outputs": [
    {
     "data": {
      "text/plain": [
       "Array(100658.6504483, dtype=float64)"
      ]
     },
     "execution_count": 87,
     "metadata": {},
     "output_type": "execute_result"
    }
   ],
   "source": [
    "logl({**pout, 'B1855+09_gw_mean(28)': mean, 'B1855+09_gw_variance(28,28)': variance})"
   ]
  },
  {
   "cell_type": "code",
   "execution_count": 91,
   "id": "3e2ce996",
   "metadata": {},
   "outputs": [],
   "source": [
    "chain = pd.read_feather('../data/NG15yr-m3a-chain.feather')"
   ]
  },
  {
   "cell_type": "code",
   "execution_count": null,
   "id": "8a14545b-c91c-4942-beff-1ae6a6263107",
   "metadata": {},
   "outputs": [],
   "source": [
    "nsamples = 10"
   ]
  },
  {
   "cell_type": "code",
   "execution_count": null,
   "id": "40ec94f4-2b61-4179-a95f-1dc4b46613a6",
   "metadata": {},
   "outputs": [],
   "source": [
    "for i in range(nsamples):\n",
    "    "
   ]
  },
  {
   "cell_type": "code",
   "execution_count": 103,
   "id": "5c23a371-4b0c-482f-a7b8-2c20d33d30b9",
   "metadata": {},
   "outputs": [],
   "source": [
    "p = chain.sample().iloc[0].to_dict()"
   ]
  },
  {
   "cell_type": "code",
   "execution_count": 107,
   "id": "979510d2-acc1-407f-bacd-71a2d959c2e8",
   "metadata": {},
   "outputs": [
    {
     "data": {
      "text/plain": [
       "{'B1855+09_red_noise_gamma': 5.338995456695557,\n",
       " 'B1855+09_red_noise_log10_A': -14.674732208251953,\n",
       " 'B1937+21_red_noise_gamma': 4.469628810882568,\n",
       " 'B1937+21_red_noise_log10_A': -13.571699142456055,\n",
       " 'B1953+29_red_noise_gamma': 2.5103724002838135,\n",
       " 'B1953+29_red_noise_log10_A': -12.703226089477539,\n",
       " 'J0023+0923_red_noise_gamma': 4.046350479125977,\n",
       " 'J0023+0923_red_noise_log10_A': -18.141340255737305,\n",
       " 'J0030+0451_red_noise_gamma': 5.45987606048584,\n",
       " 'J0030+0451_red_noise_log10_A': -14.620365142822266,\n",
       " 'J0340+4130_red_noise_gamma': 2.3450794219970703,\n",
       " 'J0340+4130_red_noise_log10_A': -16.415000915527344,\n",
       " 'J0406+3039_red_noise_gamma': 1.9178773164749146,\n",
       " 'J0406+3039_red_noise_log10_A': -14.650755882263184,\n",
       " 'J0437-4715_red_noise_gamma': 0.5288191437721252,\n",
       " 'J0437-4715_red_noise_log10_A': -16.663171768188477,\n",
       " 'J0509+0856_red_noise_gamma': 3.2450449466705322,\n",
       " 'J0509+0856_red_noise_log10_A': -19.808359146118164,\n",
       " 'J0557+1551_red_noise_gamma': 1.8561710119247437,\n",
       " 'J0557+1551_red_noise_log10_A': -17.263477325439453,\n",
       " 'J0605+3757_red_noise_gamma': 6.107133388519287,\n",
       " 'J0605+3757_red_noise_log10_A': -17.364582061767578,\n",
       " 'J0610-2100_red_noise_gamma': 0.02609175443649292,\n",
       " 'J0610-2100_red_noise_log10_A': -12.3577241897583,\n",
       " 'J0613-0200_red_noise_gamma': 3.000241756439209,\n",
       " 'J0613-0200_red_noise_log10_A': -13.548494338989258,\n",
       " 'J0636+5128_red_noise_gamma': 2.0706052780151367,\n",
       " 'J0636+5128_red_noise_log10_A': -14.865494728088379,\n",
       " 'J0645+5158_red_noise_gamma': 5.0135416984558105,\n",
       " 'J0645+5158_red_noise_log10_A': -17.35748863220215,\n",
       " 'J0709+0458_red_noise_gamma': 1.1078901290893555,\n",
       " 'J0709+0458_red_noise_log10_A': -18.349002838134766,\n",
       " 'J0740+6620_red_noise_gamma': 4.28373384475708,\n",
       " 'J0740+6620_red_noise_log10_A': -16.141845703125,\n",
       " 'J0931-1902_red_noise_gamma': 5.429354190826416,\n",
       " 'J0931-1902_red_noise_log10_A': -18.818601608276367,\n",
       " 'J1012+5307_red_noise_gamma': 0.023194538429379463,\n",
       " 'J1012+5307_red_noise_log10_A': -12.638638496398926,\n",
       " 'J1012-4235_red_noise_gamma': 2.5848381519317627,\n",
       " 'J1012-4235_red_noise_log10_A': -14.860840797424316,\n",
       " 'J1022+1001_red_noise_gamma': 2.353679656982422,\n",
       " 'J1022+1001_red_noise_log10_A': -12.103418350219727,\n",
       " 'J1024-0719_red_noise_gamma': 0.4043811559677124,\n",
       " 'J1024-0719_red_noise_log10_A': -15.794198036193848,\n",
       " 'J1125+7819_red_noise_gamma': 4.614269733428955,\n",
       " 'J1125+7819_red_noise_log10_A': -17.996257781982422,\n",
       " 'J1312+0051_red_noise_gamma': 4.981060981750488,\n",
       " 'J1312+0051_red_noise_log10_A': -18.196304321289062,\n",
       " 'J1453+1902_red_noise_gamma': 0.373761922121048,\n",
       " 'J1453+1902_red_noise_log10_A': -13.389361381530762,\n",
       " 'J1455-3330_red_noise_gamma': 4.27462911605835,\n",
       " 'J1455-3330_red_noise_log10_A': -16.258899688720703,\n",
       " 'J1600-3053_red_noise_gamma': 0.3194740116596222,\n",
       " 'J1600-3053_red_noise_log10_A': -15.431042671203613,\n",
       " 'J1614-2230_red_noise_gamma': 1.4567142724990845,\n",
       " 'J1614-2230_red_noise_log10_A': -18.1588134765625,\n",
       " 'J1630+3734_red_noise_gamma': 0.5975090265274048,\n",
       " 'J1630+3734_red_noise_log10_A': -14.276248931884766,\n",
       " 'J1640+2224_red_noise_gamma': 3.5029799938201904,\n",
       " 'J1640+2224_red_noise_log10_A': -15.57201099395752,\n",
       " 'J1643-1224_red_noise_gamma': 1.3541451692581177,\n",
       " 'J1643-1224_red_noise_log10_A': -12.315503120422363,\n",
       " 'J1705-1903_red_noise_gamma': 0.46178770065307617,\n",
       " 'J1705-1903_red_noise_log10_A': -12.007781982421875,\n",
       " 'J1713+0747_red_noise_gamma': 5.428679466247559,\n",
       " 'J1713+0747_red_noise_log10_A': -18.693147659301758,\n",
       " 'J1719-1438_red_noise_gamma': 5.3086957931518555,\n",
       " 'J1719-1438_red_noise_log10_A': -15.404731750488281,\n",
       " 'J1730-2304_red_noise_gamma': 5.613315582275391,\n",
       " 'J1730-2304_red_noise_log10_A': -14.581663131713867,\n",
       " 'J1738+0333_red_noise_gamma': 3.4943771362304688,\n",
       " 'J1738+0333_red_noise_log10_A': -18.575057983398438,\n",
       " 'J1741+1351_red_noise_gamma': 2.839139461517334,\n",
       " 'J1741+1351_red_noise_log10_A': -14.498961448669434,\n",
       " 'J1744-1134_red_noise_gamma': 1.6620845794677734,\n",
       " 'J1744-1134_red_noise_log10_A': -17.191768646240234,\n",
       " 'J1745+1017_red_noise_gamma': 1.3060060739517212,\n",
       " 'J1745+1017_red_noise_log10_A': -11.669524192810059,\n",
       " 'J1747-4036_red_noise_gamma': 1.5224652290344238,\n",
       " 'J1747-4036_red_noise_log10_A': -12.38658332824707,\n",
       " 'J1751-2857_red_noise_gamma': 2.9859068393707275,\n",
       " 'J1751-2857_red_noise_log10_A': -16.905059814453125,\n",
       " 'J1802-2124_red_noise_gamma': 2.339869976043701,\n",
       " 'J1802-2124_red_noise_log10_A': -12.201399803161621,\n",
       " 'J1811-2405_red_noise_gamma': 3.1260106563568115,\n",
       " 'J1811-2405_red_noise_log10_A': -18.362390518188477,\n",
       " 'J1832-0836_red_noise_gamma': 0.013677851296961308,\n",
       " 'J1832-0836_red_noise_log10_A': -14.548754692077637,\n",
       " 'J1843-1113_red_noise_gamma': 6.933455944061279,\n",
       " 'J1843-1113_red_noise_log10_A': -19.21725845336914,\n",
       " 'J1853+1303_red_noise_gamma': 6.494900226593018,\n",
       " 'J1853+1303_red_noise_log10_A': -16.788015365600586,\n",
       " 'J1903+0327_red_noise_gamma': 1.8873733282089233,\n",
       " 'J1903+0327_red_noise_log10_A': -12.13683795928955,\n",
       " 'J1909-3744_red_noise_gamma': 3.63877534866333,\n",
       " 'J1909-3744_red_noise_log10_A': -15.090568542480469,\n",
       " 'J1910+1256_red_noise_gamma': 6.8589887619018555,\n",
       " 'J1910+1256_red_noise_log10_A': -17.782184600830078,\n",
       " 'J1911+1347_red_noise_gamma': 1.6293240785598755,\n",
       " 'J1911+1347_red_noise_log10_A': -19.502185821533203,\n",
       " 'J1918-0642_red_noise_gamma': 2.3851962089538574,\n",
       " 'J1918-0642_red_noise_log10_A': -19.858951568603516,\n",
       " 'J1923+2515_red_noise_gamma': 4.350363731384277,\n",
       " 'J1923+2515_red_noise_log10_A': -19.150583267211914,\n",
       " 'J1944+0907_red_noise_gamma': 5.139882564544678,\n",
       " 'J1944+0907_red_noise_log10_A': -14.078887939453125,\n",
       " 'J1946+3417_red_noise_gamma': 0.326627641916275,\n",
       " 'J1946+3417_red_noise_log10_A': -12.281002044677734,\n",
       " 'J2010-1323_red_noise_gamma': 1.054652452468872,\n",
       " 'J2010-1323_red_noise_log10_A': -17.721141815185547,\n",
       " 'J2017+0603_red_noise_gamma': 3.2999637126922607,\n",
       " 'J2017+0603_red_noise_log10_A': -17.291460037231445,\n",
       " 'J2033+1734_red_noise_gamma': 3.5099716186523438,\n",
       " 'J2033+1734_red_noise_log10_A': -17.801803588867188,\n",
       " 'J2043+1711_red_noise_gamma': 4.230432510375977,\n",
       " 'J2043+1711_red_noise_log10_A': -17.767656326293945,\n",
       " 'J2124-3358_red_noise_gamma': 4.842596054077148,\n",
       " 'J2124-3358_red_noise_log10_A': -14.867633819580078,\n",
       " 'J2145-0750_red_noise_gamma': 0.7228580117225647,\n",
       " 'J2145-0750_red_noise_log10_A': -12.99074649810791,\n",
       " 'J2214+3000_red_noise_gamma': 5.599301815032959,\n",
       " 'J2214+3000_red_noise_log10_A': -16.996368408203125,\n",
       " 'J2229+2643_red_noise_gamma': 4.165972709655762,\n",
       " 'J2229+2643_red_noise_log10_A': -16.474544525146484,\n",
       " 'J2234+0611_red_noise_gamma': 6.5402607917785645,\n",
       " 'J2234+0611_red_noise_log10_A': -15.236140251159668,\n",
       " 'J2234+0944_red_noise_gamma': 2.4974186420440674,\n",
       " 'J2234+0944_red_noise_log10_A': -19.06852912902832,\n",
       " 'J2302+4442_red_noise_gamma': 5.9994988441467285,\n",
       " 'J2302+4442_red_noise_log10_A': -16.79437828063965,\n",
       " 'J2317+1439_red_noise_gamma': 4.105146884918213,\n",
       " 'J2317+1439_red_noise_log10_A': -17.011314392089844,\n",
       " 'J2322+2057_red_noise_gamma': 6.134597301483154,\n",
       " 'J2322+2057_red_noise_log10_A': -15.476522445678711,\n",
       " 'gw_gamma': 2.7550301551818848,\n",
       " 'gw_log10_A': -14.023052215576172,\n",
       " 'logp': 7972830.0,\n",
       " 'logl': 7973111.5,\n",
       " 'accept': 0.5102350115776062,\n",
       " 'pt': 0.03085399977862835}"
      ]
     },
     "execution_count": 107,
     "metadata": {},
     "output_type": "execute_result"
    }
   ],
   "source": [
    "p"
   ]
  },
  {
   "cell_type": "code",
   "execution_count": 106,
   "id": "253d87f2-f180-4084-a859-33a4c113b909",
   "metadata": {},
   "outputs": [
    {
     "data": {
      "text/plain": [
       "['B1855+09_rednoise_gamma',\n",
       " 'B1855+09_rednoise_log10_A',\n",
       " 'B1937+21_rednoise_gamma',\n",
       " 'B1937+21_rednoise_log10_A',\n",
       " 'B1953+29_rednoise_gamma',\n",
       " 'B1953+29_rednoise_log10_A']"
      ]
     },
     "execution_count": 106,
     "metadata": {},
     "output_type": "execute_result"
    }
   ],
   "source": [
    "[par for par in cond.params if par not in p]"
   ]
  },
  {
   "cell_type": "code",
   "execution_count": null,
   "id": "7a16f52c-b0fa-4e70-936b-7fd8d555f709",
   "metadata": {},
   "outputs": [],
   "source": []
  }
 ],
 "metadata": {
  "kernelspec": {
   "display_name": "Python 3 (ipykernel)",
   "language": "python",
   "name": "python3"
  },
  "language_info": {
   "codemirror_mode": {
    "name": "ipython",
    "version": 3
   },
   "file_extension": ".py",
   "mimetype": "text/x-python",
   "name": "python",
   "nbconvert_exporter": "python",
   "pygments_lexer": "ipython3",
   "version": "3.11.5"
  }
 },
 "nbformat": 4,
 "nbformat_minor": 5
}
