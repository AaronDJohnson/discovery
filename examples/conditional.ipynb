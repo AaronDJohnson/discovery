{
 "cells": [
  {
   "cell_type": "code",
   "execution_count": 143,
   "id": "86c8de4e-4cd4-4c5e-bc88-f62cbce84780",
   "metadata": {},
   "outputs": [],
   "source": [
    "import os, re\n",
    "\n",
    "import discovery as ds\n",
    "\n",
    "import numpy as np\n",
    "import scipy as sp\n",
    "import pandas as pd\n",
    "import matplotlib.pyplot as pp\n",
    "\n",
    "import jax\n",
    "import jax.numpy as jnp"
   ]
  },
  {
   "cell_type": "code",
   "execution_count": 314,
   "id": "cb399f8f-769a-41c1-a29e-b9969a088d22",
   "metadata": {},
   "outputs": [
    {
     "data": {
      "text/plain": [
       "<module 'discovery' from '/Users/vallis/Documents/discovery/src/discovery/__init__.py'>"
      ]
     },
     "execution_count": 314,
     "metadata": {},
     "output_type": "execute_result"
    }
   ],
   "source": [
    "import imp\n",
    "\n",
    "imp.reload(ds.matrix)\n",
    "imp.reload(ds.signals)\n",
    "imp.reload(ds.likelihood)\n",
    "imp.reload(ds.prior)\n",
    "imp.reload(ds.pulsar)\n",
    "imp.reload(ds)"
   ]
  },
  {
   "cell_type": "code",
   "execution_count": 315,
   "id": "869c1705-d511-4a43-baed-741e8f7c0842",
   "metadata": {},
   "outputs": [],
   "source": [
    "ds.config('numpy')"
   ]
  },
  {
   "cell_type": "markdown",
   "id": "91da1117-c3fd-48b3-9bce-efafb0fc526a",
   "metadata": {},
   "source": [
    "Read pulsar data"
   ]
  },
  {
   "cell_type": "code",
   "execution_count": 329,
   "id": "e4b29d53-bdf3-483c-8dd0-29b816c22eda",
   "metadata": {},
   "outputs": [],
   "source": [
    "psrfiles = !ls ../data\n",
    "psrs = [ds.Pulsar.read_feather(f'../data/{psrfile}') for psrfile in psrfiles[:10]\n",
    "        if '-J' in psrfile or '-B' in psrfile]"
   ]
  },
  {
   "cell_type": "markdown",
   "id": "3ef62915-4f10-4e8b-a73d-64123be4348a",
   "metadata": {},
   "source": [
    "Choose the simulation"
   ]
  },
  {
   "cell_type": "code",
   "execution_count": 317,
   "id": "7c04d3a4-bf11-4ca0-9044-524c74fed91b",
   "metadata": {},
   "outputs": [],
   "source": [
    "rndseed = 42"
   ]
  },
  {
   "cell_type": "markdown",
   "id": "65bbf28b-811e-46a2-a3f9-53f6f6ebe141",
   "metadata": {},
   "source": [
    "Choose the outpsr"
   ]
  },
  {
   "cell_type": "code",
   "execution_count": 318,
   "id": "771b7182-591d-42b3-8251-005865cd25bc",
   "metadata": {},
   "outputs": [],
   "source": [
    "outpsr = 0\n",
    "outpsrname = psrs[outpsr].name"
   ]
  },
  {
   "cell_type": "markdown",
   "id": "6fa97c00-cdcf-4c62-9bcc-3c53e1ce3dd8",
   "metadata": {},
   "source": [
    "How many predictive samples?"
   ]
  },
  {
   "cell_type": "code",
   "execution_count": 319,
   "id": "275fe236-394c-4041-977e-2bea3b019ffb",
   "metadata": {},
   "outputs": [],
   "source": [
    "nsamples = 1"
   ]
  },
  {
   "cell_type": "markdown",
   "id": "06570382-d33a-4c80-9474-f7f14a571d15",
   "metadata": {},
   "source": [
    "Get the chains"
   ]
  },
  {
   "cell_type": "code",
   "execution_count": 320,
   "id": "e3093327-aaee-46f2-8565-33aee7069f9a",
   "metadata": {},
   "outputs": [],
   "source": [
    "model2a = pd.read_feather('../data/NG15yr-m2a-chain.feather')\n",
    "model3a = pd.read_feather('../data/NG15yr-m3a-chain.feather')"
   ]
  },
  {
   "cell_type": "markdown",
   "id": "80990522-ecb5-459f-92eb-729ffc6580a8",
   "metadata": {},
   "source": [
    "Simulate model 2a"
   ]
  },
  {
   "cell_type": "code",
   "execution_count": 321,
   "id": "68bfd8b2-856c-41b8-b0ec-b9536c46f7f6",
   "metadata": {},
   "outputs": [],
   "source": [
    "Tspan = ds.getspan(psrs)\n",
    "\n",
    "cbl = ds.GlobalLikelihood([ds.PulsarLikelihood([psr.residuals,\n",
    "                                                ds.makenoise_measurement(psr, psr.noisedict),\n",
    "                                                ds.makegp_ecorr(psr, psr.noisedict),\n",
    "                                                ds.makegp_timing(psr, variance=1e-14),\n",
    "                                                ds.makegp_fourier(psr, ds.powerlaw, 30, T=Tspan, name='red_noise'),\n",
    "                                                ds.makegp_fourier(psr, ds.powerlaw, 14, T=Tspan, name='gw', common=['gw_gamma', 'gw_log10_A'])])\n",
    "                           for ipsr, psr in enumerate(psrs)])\n",
    "\n",
    "sample = cbl.sample"
   ]
  },
  {
   "cell_type": "code",
   "execution_count": 322,
   "id": "c8673a4b-1d23-4cea-a0ed-aad5cdc6cc1c",
   "metadata": {},
   "outputs": [],
   "source": [
    "p0 = model2a.sample(1).iloc[0].to_dict()"
   ]
  },
  {
   "cell_type": "code",
   "execution_count": 323,
   "id": "d1b8b1f8-121a-454a-9757-50f9096d38e1",
   "metadata": {},
   "outputs": [],
   "source": [
    "p0['gw_gamma'] = 4.33\n",
    "p0['gw_log10_A'] = -14.5"
   ]
  },
  {
   "cell_type": "code",
   "execution_count": 327,
   "id": "a703c5a0-f9a1-4651-9841-56b9e79ad091",
   "metadata": {},
   "outputs": [],
   "source": [
    "key = ds.matrix.jnpkey(rndseed)\n",
    "key, ysim = sample(key, p0)"
   ]
  },
  {
   "cell_type": "code",
   "execution_count": 155,
   "id": "9c0e2c1b-ad8d-4a60-8a55-5a818fd30901",
   "metadata": {},
   "outputs": [],
   "source": [
    "str_log10_A = re.sub('\\.','p',re.sub('\\-','m',str(p0['gw_log10_A'])))\n",
    "dirname = f'sim_model2a_{str_log10_A}_{rndseed}'"
   ]
  },
  {
   "cell_type": "code",
   "execution_count": 164,
   "id": "131e6179-0f56-4b1f-a268-d4dbdc3e4e00",
   "metadata": {},
   "outputs": [],
   "source": [
    "os.makedirs(dirname, exist_ok=True) "
   ]
  },
  {
   "cell_type": "code",
   "execution_count": 181,
   "id": "ad61280d-e439-43ef-9ed7-6914e836aa07",
   "metadata": {},
   "outputs": [],
   "source": [
    "for psr, ypsr in zip(psrs, ysim):\n",
    "    psr.residuals = np.asarray(ypsr)\n",
    "    psr.save_feather(os.path.join(dirname, f'{psr.name}.feather'), noisedict = psr.noisedict)"
   ]
  },
  {
   "cell_type": "code",
   "execution_count": null,
   "id": "f45bc28d-7a42-4cd2-963d-168f75a516e2",
   "metadata": {},
   "outputs": [],
   "source": [
    "del cbl, sample"
   ]
  },
  {
   "cell_type": "markdown",
   "id": "53bd321c-fd71-4997-8206-8138d8511ed4",
   "metadata": {},
   "source": [
    "Model-3a conditional predictive "
   ]
  },
  {
   "cell_type": "code",
   "execution_count": 330,
   "id": "b97f0db6-bb98-49de-92a8-a6d4e4ed8c66",
   "metadata": {},
   "outputs": [],
   "source": [
    "Tspan = ds.getspan(psrs)\n",
    "\n",
    "outnoise = ds.makenoise_measurement_simple(psrs[outpsr], {f'{outpsrname}_efac': 1.0,\n",
    "                                                          f'{outpsrname}_log10_t2equad': 0.0})\n",
    "\n",
    "gbl = ds.GlobalLikelihood([ds.PulsarLikelihood([psr.residuals,\n",
    "                                                outnoise if ipsr == outpsr else ds.makenoise_measurement(psr, psr.noisedict),\n",
    "                                                ds.makegp_ecorr(psr, psr.noisedict),\n",
    "                                                ds.makegp_timing(psr, variance=1e-14),\n",
    "                                                ds.makegp_fourier(psr, ds.powerlaw, 30, T=Tspan, name='red_noise')])\n",
    "                           for ipsr, psr in enumerate(psrs)],\n",
    "                          ds.makegp_fourier_global(psrs, ds.powerlaw, ds.hd_orf, 14, T=Tspan, name='gw'))\n",
    "\n",
    "cond = gbl.conditional"
   ]
  },
  {
   "cell_type": "code",
   "execution_count": 13,
   "id": "45dd4057-3b84-4bcf-b68f-9ff6da9b7e65",
   "metadata": {},
   "outputs": [],
   "source": [
    "# check that we have all the parameters\n",
    "# [p for p in cond.params if p not in chain.columns]"
   ]
  },
  {
   "cell_type": "markdown",
   "id": "d6490c99-36dc-42b1-984d-63a1e6522176",
   "metadata": {},
   "source": [
    "outpsr model3a likelihood "
   ]
  },
  {
   "cell_type": "code",
   "execution_count": 293,
   "id": "4e4e742c-0044-4c76-b8bb-cd0e37f7fbed",
   "metadata": {},
   "outputs": [],
   "source": [
    "psr = psrs[outpsr]\n",
    "spl3 = ds.PulsarLikelihood([psr.residuals,\n",
    "                            ds.makenoise_measurement(psr, psr.noisedict),\n",
    "                            ds.makegp_ecorr(psr, psr.noisedict),\n",
    "                            ds.makegp_timing(psr, variance=1e-14),\n",
    "                            ds.makegp_fourier(psr, ds.powerlaw, 30, T=Tspan, name='red_noise'),\n",
    "                            ds.makegp_fourier_delay(psr, 14, T=Tspan, name='gw'),\n",
    "                            ds.makegp_fourier_variance(psr, 14, T=Tspan, name='gw')\n",
    "                            ])\n",
    "\n",
    "logl3 = spl3.logL\n",
    "jlogl3 = jax.jit(logl3)"
   ]
  },
  {
   "cell_type": "code",
   "execution_count": 294,
   "id": "44904a58-7586-4531-9a70-29a659d039d1",
   "metadata": {},
   "outputs": [],
   "source": [
    "outpsrrange  = slice(outpsr*28, (outpsr+1)*28)\n",
    "\n",
    "outpsrmean = f'{outpsrname}_gw_mean(28)'\n",
    "outpsrvar  = f'{outpsrname}_gw_variance(28,28)'\n",
    "\n",
    "outpsrgamma  = f'{outpsrname}_red_noise_gamma'\n",
    "outpsrlog10A = f'{outpsrname}_red_noise_log10_A'"
   ]
  },
  {
   "cell_type": "code",
   "execution_count": 298,
   "id": "4f03036c-12a5-4be2-9249-d1e477e8a226",
   "metadata": {},
   "outputs": [],
   "source": [
    "def makeppl(logl, chain, conditional=True, accelerate=True):\n",
    "    index, records = [], []\n",
    "    for i, row in chain.sample(nsamples).iterrows():\n",
    "        par = row.to_dict()\n",
    "\n",
    "        if conditional:    \n",
    "            cm, cl = cond(par)\n",
    "            \n",
    "            par[outpsrmean] = cm[outrange]\n",
    "            par[outpsrvar] = ds.matrix.jsp.linalg.cho_solve(cl, jnp.identity(len(cm))[:, outrange])[outrange, :]\n",
    "\n",
    "            if accelerate:\n",
    "                # could cast this in PulsarLikelihood\n",
    "                ym = np.array(ds.makegp_fourier_delay(psr, 14, T=Tspan, name='gw')(par))\n",
    "                spl3 = ds.PulsarLikelihood([psr.residuals - ym,\n",
    "                                            ds.makenoise_measurement(psr, psr.noisedict),\n",
    "                                            ds.makegp_ecorr(psr, psr.noisedict),\n",
    "                                            ds.makegp_timing(psr, variance=1e-14),\n",
    "                                            ds.makegp_fourier(psr, ds.powerlaw, 30, T=Tspan, name='red_noise'),\n",
    "                                            ds.makegp_fourier_variance(psr, 14, T=Tspan, name='gw', noisedict=par)\n",
    "                                            ])\n",
    "                \n",
    "                logl = jax.jit(spl3.logL)\n",
    "        \n",
    "        def ufunc(gamma, log10_A):\n",
    "            return float(logl({**par, outpsrgamma: gamma, outpsrlog10A: log10_A}))\n",
    "    \n",
    "        norm = ufunc(4.0, -14.0)\n",
    "        def nfunc(gamma, log10_A):\n",
    "            return np.exp(ufunc(gamma, log10_A) - norm)\n",
    "    \n",
    "        index.append(i)\n",
    "        records.append({'gw_gamma': par.get('gw_gamma', np.nan),\n",
    "                        'gw_log10_A': par['gw_log10_A'],\n",
    "                                              # note func(y, x), with limits given for x, y\n",
    "                        'logl': norm + np.log(sp.integrate.dblquad(nfunc, -20, -11, 0, 7)[0])})\n",
    "    \n",
    "    return pd.DataFrame(records, index=index)"
   ]
  },
  {
   "cell_type": "code",
   "execution_count": 301,
   "id": "f8f18973-13c0-4fd2-a30c-bdc8c3e3f130",
   "metadata": {},
   "outputs": [
    {
     "name": "stdout",
     "output_type": "stream",
     "text": [
      "CPU times: user 2.94 s, sys: 33.6 ms, total: 2.97 s\n",
      "Wall time: 1.69 s\n"
     ]
    }
   ],
   "source": [
    "%time df = makeppl(logl3, model3a, conditional=True, accelerate=True)"
   ]
  },
  {
   "cell_type": "code",
   "execution_count": 289,
   "id": "466e1661-feb8-4028-8790-67d178bcc2a3",
   "metadata": {},
   "outputs": [
    {
     "name": "stdout",
     "output_type": "stream",
     "text": [
      "CPU times: user 2.21 s, sys: 36.5 ms, total: 2.25 s\n",
      "Wall time: 1.23 s\n"
     ]
    }
   ],
   "source": [
    "%time df = makeppl(logl3, model3a, conditional=True, accelerate=True)"
   ]
  },
  {
   "cell_type": "code",
   "execution_count": null,
   "id": "a8901747-428f-4af6-b46c-3b5418e295ed",
   "metadata": {},
   "outputs": [],
   "source": [
    "%time df = makeppl(jlogl3, model3a, conditional=True)"
   ]
  },
  {
   "cell_type": "code",
   "execution_count": null,
   "id": "3ef4b959-dbba-463c-bcb7-a5b7ada81d0b",
   "metadata": {},
   "outputs": [],
   "source": [
    "df.to_feather(f'{outpsrname}_ppl_model3a.feather')"
   ]
  },
  {
   "cell_type": "code",
   "execution_count": null,
   "id": "5a0bfdb1-64c5-4232-984b-b3de2c2f3065",
   "metadata": {},
   "outputs": [],
   "source": [
    "del spl3, logl3, jlogl3"
   ]
  },
  {
   "cell_type": "markdown",
   "id": "2da47f24-fcf7-47f4-8f5a-1755d753beaf",
   "metadata": {},
   "source": [
    "outpsr model2a likelihood "
   ]
  },
  {
   "cell_type": "code",
   "execution_count": 210,
   "id": "e04d86d7-fbe3-40e8-8a7f-a6c93fc76577",
   "metadata": {},
   "outputs": [],
   "source": [
    "spl2 = ds.PulsarLikelihood([psr.residuals,\n",
    "                            ds.makenoise_measurement(psr, psr.noisedict),\n",
    "                            ds.makegp_ecorr(psr, psr.noisedict),\n",
    "                            ds.makegp_timing(psr, variance=1e-14),\n",
    "                            ds.makegp_fourier(psr, ds.powerlaw, 30, T=Tspan, name='red_noise'),\n",
    "                            ds.makegp_fourier(psr, ds.powerlaw, 14, T=Tspan, name='gw', common=['gw_log10_A', 'gw_gamma'])\n",
    "                            ])\n",
    "\n",
    "logl2 = spl2.logL\n",
    "jlogl2 = jax.jit(logl2)"
   ]
  },
  {
   "cell_type": "code",
   "execution_count": 211,
   "id": "2853e899-f645-4b88-888e-7fe6b76a72bc",
   "metadata": {},
   "outputs": [
    {
     "name": "stdout",
     "output_type": "stream",
     "text": [
      "CPU times: user 187 ms, sys: 336 ms, total: 523 ms\n",
      "Wall time: 300 ms\n"
     ]
    }
   ],
   "source": [
    "%time df = makeppl(logl2, model2a, conditional=False)"
   ]
  },
  {
   "cell_type": "code",
   "execution_count": null,
   "id": "1fa493d3-4102-431a-ae0d-8c6b387a0123",
   "metadata": {},
   "outputs": [],
   "source": [
    "df.to_feather(f'{outpsrname}_ppl_model2a.feather')"
   ]
  }
 ],
 "metadata": {
  "kernelspec": {
   "display_name": "Python 3 (ipykernel)",
   "language": "python",
   "name": "python3"
  },
  "language_info": {
   "codemirror_mode": {
    "name": "ipython",
    "version": 3
   },
   "file_extension": ".py",
   "mimetype": "text/x-python",
   "name": "python",
   "nbconvert_exporter": "python",
   "pygments_lexer": "ipython3",
   "version": "3.11.5"
  }
 },
 "nbformat": 4,
 "nbformat_minor": 5
}
