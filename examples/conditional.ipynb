{
 "cells": [
  {
   "cell_type": "code",
   "execution_count": 1,
   "id": "86c8de4e-4cd4-4c5e-bc88-f62cbce84780",
   "metadata": {},
   "outputs": [],
   "source": [
    "import os, re\n",
    "\n",
    "import discovery as ds\n",
    "\n",
    "import numpy as np\n",
    "import scipy as sp\n",
    "import pandas as pd\n",
    "import matplotlib.pyplot as pp\n",
    "\n",
    "import jax\n",
    "import jax.numpy as jnp"
   ]
  },
  {
   "cell_type": "code",
   "execution_count": 314,
   "id": "cb399f8f-769a-41c1-a29e-b9969a088d22",
   "metadata": {},
   "outputs": [
    {
     "data": {
      "text/plain": [
       "<module 'discovery' from '/Users/vallis/Documents/discovery/src/discovery/__init__.py'>"
      ]
     },
     "execution_count": 314,
     "metadata": {},
     "output_type": "execute_result"
    }
   ],
   "source": [
    "import imp\n",
    "\n",
    "imp.reload(ds.matrix)\n",
    "imp.reload(ds.signals)\n",
    "imp.reload(ds.likelihood)\n",
    "imp.reload(ds.prior)\n",
    "imp.reload(ds.pulsar)\n",
    "imp.reload(ds)"
   ]
  },
  {
   "cell_type": "code",
   "execution_count": 315,
   "id": "869c1705-d511-4a43-baed-741e8f7c0842",
   "metadata": {},
   "outputs": [],
   "source": [
    "ds.config('numpy')"
   ]
  },
  {
   "cell_type": "markdown",
   "id": "91da1117-c3fd-48b3-9bce-efafb0fc526a",
   "metadata": {},
   "source": [
    "Read pulsar data"
   ]
  },
  {
   "cell_type": "code",
   "execution_count": 2,
   "id": "e4b29d53-bdf3-483c-8dd0-29b816c22eda",
   "metadata": {},
   "outputs": [],
   "source": [
    "psrfiles = !ls ../data\n",
    "psrs = [ds.Pulsar.read_feather(f'../data/{psrfile}') for psrfile in psrfiles[:10]\n",
    "        if '-J' in psrfile or '-B' in psrfile]"
   ]
  },
  {
   "cell_type": "markdown",
   "id": "3ef62915-4f10-4e8b-a73d-64123be4348a",
   "metadata": {},
   "source": [
    "Choose the simulation"
   ]
  },
  {
   "cell_type": "code",
   "execution_count": 3,
   "id": "7c04d3a4-bf11-4ca0-9044-524c74fed91b",
   "metadata": {},
   "outputs": [],
   "source": [
    "rndseed = 42"
   ]
  },
  {
   "cell_type": "markdown",
   "id": "65bbf28b-811e-46a2-a3f9-53f6f6ebe141",
   "metadata": {},
   "source": [
    "Choose the outpsr"
   ]
  },
  {
   "cell_type": "code",
   "execution_count": 4,
   "id": "771b7182-591d-42b3-8251-005865cd25bc",
   "metadata": {},
   "outputs": [],
   "source": [
    "outpsr = 0\n",
    "outpsrname = psrs[outpsr].name"
   ]
  },
  {
   "cell_type": "markdown",
   "id": "6fa97c00-cdcf-4c62-9bcc-3c53e1ce3dd8",
   "metadata": {},
   "source": [
    "How many predictive samples?"
   ]
  },
  {
   "cell_type": "code",
   "execution_count": 5,
   "id": "275fe236-394c-4041-977e-2bea3b019ffb",
   "metadata": {},
   "outputs": [],
   "source": [
    "nsamples = 1"
   ]
  },
  {
   "cell_type": "markdown",
   "id": "06570382-d33a-4c80-9474-f7f14a571d15",
   "metadata": {},
   "source": [
    "Get the chains"
   ]
  },
  {
   "cell_type": "code",
   "execution_count": 6,
   "id": "e3093327-aaee-46f2-8565-33aee7069f9a",
   "metadata": {},
   "outputs": [],
   "source": [
    "model2a = pd.read_feather('../data/NG15yr-m2a-chain.feather')\n",
    "model3a = pd.read_feather('../data/NG15yr-m3a-chain.feather')"
   ]
  },
  {
   "cell_type": "markdown",
   "id": "80990522-ecb5-459f-92eb-729ffc6580a8",
   "metadata": {},
   "source": [
    "Simulate model 2a"
   ]
  },
  {
   "cell_type": "code",
   "execution_count": 321,
   "id": "68bfd8b2-856c-41b8-b0ec-b9536c46f7f6",
   "metadata": {},
   "outputs": [],
   "source": [
    "Tspan = ds.getspan(psrs)\n",
    "\n",
    "cbl = ds.GlobalLikelihood([ds.PulsarLikelihood([psr.residuals,\n",
    "                                                ds.makenoise_measurement(psr, psr.noisedict),\n",
    "                                                ds.makegp_ecorr(psr, psr.noisedict),\n",
    "                                                ds.makegp_timing(psr, variance=1e-14),\n",
    "                                                ds.makegp_fourier(psr, ds.powerlaw, 30, T=Tspan, name='red_noise'),\n",
    "                                                ds.makegp_fourier(psr, ds.powerlaw, 14, T=Tspan, name='gw', common=['gw_gamma', 'gw_log10_A'])])\n",
    "                           for ipsr, psr in enumerate(psrs)])\n",
    "\n",
    "sample = cbl.sample"
   ]
  },
  {
   "cell_type": "code",
   "execution_count": 322,
   "id": "c8673a4b-1d23-4cea-a0ed-aad5cdc6cc1c",
   "metadata": {},
   "outputs": [],
   "source": [
    "p0 = model2a.sample(1).iloc[0].to_dict()"
   ]
  },
  {
   "cell_type": "code",
   "execution_count": 323,
   "id": "d1b8b1f8-121a-454a-9757-50f9096d38e1",
   "metadata": {},
   "outputs": [],
   "source": [
    "p0['gw_gamma'] = 4.33\n",
    "p0['gw_log10_A'] = -14.5"
   ]
  },
  {
   "cell_type": "code",
   "execution_count": 327,
   "id": "a703c5a0-f9a1-4651-9841-56b9e79ad091",
   "metadata": {},
   "outputs": [],
   "source": [
    "key = ds.matrix.jnpkey(rndseed)\n",
    "key, ysim = sample(key, p0)"
   ]
  },
  {
   "cell_type": "code",
   "execution_count": 155,
   "id": "9c0e2c1b-ad8d-4a60-8a55-5a818fd30901",
   "metadata": {},
   "outputs": [],
   "source": [
    "str_log10_A = re.sub('\\.','p',re.sub('\\-','m',str(p0['gw_log10_A'])))\n",
    "dirname = f'sim_model2a_{str_log10_A}_{rndseed}'"
   ]
  },
  {
   "cell_type": "code",
   "execution_count": 164,
   "id": "131e6179-0f56-4b1f-a268-d4dbdc3e4e00",
   "metadata": {},
   "outputs": [],
   "source": [
    "os.makedirs(dirname, exist_ok=True) "
   ]
  },
  {
   "cell_type": "code",
   "execution_count": 181,
   "id": "ad61280d-e439-43ef-9ed7-6914e836aa07",
   "metadata": {},
   "outputs": [],
   "source": [
    "for psr, ypsr in zip(psrs, ysim):\n",
    "    psr.residuals = np.asarray(ypsr)\n",
    "    psr.save_feather(os.path.join(dirname, f'{psr.name}.feather'), noisedict = psr.noisedict)"
   ]
  },
  {
   "cell_type": "code",
   "execution_count": null,
   "id": "f45bc28d-7a42-4cd2-963d-168f75a516e2",
   "metadata": {},
   "outputs": [],
   "source": [
    "del cbl, sample"
   ]
  },
  {
   "cell_type": "markdown",
   "id": "78241c87-d5bd-4cdf-9c98-a5e067f4ea36",
   "metadata": {},
   "source": [
    "Sample model 3a with vmap"
   ]
  },
  {
   "cell_type": "code",
   "execution_count": 7,
   "id": "0d59265b-0636-4982-a7fb-02a893730e92",
   "metadata": {},
   "outputs": [],
   "source": [
    "Tspan = ds.getspan(psrs)\n",
    "\n",
    "m3a = ds.GlobalLikelihood((ds.PulsarLikelihood([psr.residuals,\n",
    "                                                ds.makenoise_measurement(psr, psr.noisedict),\n",
    "                                                ds.makegp_ecorr(psr, psr.noisedict),\n",
    "                                                ds.makegp_timing(psr, variance=1e-14),\n",
    "                                                ds.makegp_fourier(psr, ds.powerlaw, 30, T=Tspan, name='red_noise')])\n",
    "                           for ipsr, psr in enumerate(psrs)),\n",
    "                          ds.makegp_fourier_global(psrs, ds.powerlaw, ds.hd_orf, 14, T=Tspan, name='gw'))\n",
    "\n",
    "logl = m3a.logL\n",
    "jlogl = jax.jit(logl)"
   ]
  },
  {
   "cell_type": "code",
   "execution_count": 228,
   "id": "3a168fd6-06e0-48c1-b6af-5a07f0e97062",
   "metadata": {},
   "outputs": [
    {
     "data": {
      "text/plain": [
       "<module 'discovery' from '/Users/vallis/Documents/discovery/src/discovery/__init__.py'>"
      ]
     },
     "execution_count": 228,
     "metadata": {},
     "output_type": "execute_result"
    }
   ],
   "source": [
    "imp.reload(ds.matrix)\n",
    "imp.reload(ds.signals)\n",
    "imp.reload(ds.likelihood)\n",
    "imp.reload(ds)"
   ]
  },
  {
   "cell_type": "markdown",
   "id": "def953f6-76e8-45d7-a6bb-b46cff482486",
   "metadata": {},
   "source": [
    "Conditional probability for RN"
   ]
  },
  {
   "cell_type": "code",
   "execution_count": 229,
   "id": "ba7a25ee-5731-44b7-8e3a-92c604f07d62",
   "metadata": {},
   "outputs": [],
   "source": [
    "Tspan = ds.getspan(psrs)\n",
    "\n",
    "c2a = ds.GlobalLikelihood((ds.PulsarLikelihood([psr.residuals,\n",
    "                                                ds.makenoise_measurement(psr, psr.noisedict),\n",
    "                                                ds.makegp_ecorr(psr, psr.noisedict),\n",
    "                                                ds.makegp_timing(psr, variance=1e-14)])\n",
    "                           for ipsr, psr in enumerate(psrs)),\n",
    "                          [ds.makegp_fourier_allpsr(psrs, ds.powerlaw, 30, T=Tspan, name='red_noise'),\n",
    "                           ds.makegp_fourier_allpsr(psrs, ds.powerlaw, 14, T=Tspan, name='gw', common=['gw_gamma','gw_log10_A'])])\n",
    "\n",
    "cond = c2a.conditional"
   ]
  },
  {
   "cell_type": "code",
   "execution_count": 234,
   "id": "4d431d54-7746-47ea-900d-1dda829c568c",
   "metadata": {},
   "outputs": [],
   "source": [
    "p0 = ds.sample_uniform(cond.params)"
   ]
  },
  {
   "cell_type": "code",
   "execution_count": null,
   "id": "40679f53-6c23-4b6e-8439-0d9ff914bc72",
   "metadata": {},
   "outputs": [],
   "source": [
    "cond(p0)"
   ]
  },
  {
   "cell_type": "code",
   "execution_count": 241,
   "id": "e69dc644-3ea7-4e38-89a9-091260860058",
   "metadata": {},
   "outputs": [],
   "source": [
    "Tspan = ds.getspan(psrs)\n",
    "\n",
    "c2a = ds.GlobalLikelihood((ds.PulsarLikelihood([psr.residuals,\n",
    "                                                ds.makenoise_measurement(psr, psr.noisedict),\n",
    "                                                ds.makegp_ecorr(psr, psr.noisedict),\n",
    "                                                ds.makegp_timing(psr, variance=1e-14)])\n",
    "                           for ipsr, psr in enumerate(psrs)),\n",
    "                          [ds.makegp_fourier_allpsr(psrs, ds.powerlaw, 30, T=Tspan, name='red_noise'),\n",
    "                           ds.makegp_fourier_global(psrs, ds.powerlaw, ds.hd_orf, 14, T=Tspan, name='gw')])\n",
    "\n",
    "cond = c3a.conditional"
   ]
  },
  {
   "cell_type": "code",
   "execution_count": 242,
   "id": "5caac5af-7210-4cdf-ac14-7d2ce0e17d2b",
   "metadata": {},
   "outputs": [],
   "source": [
    "p0 = ds.sample_uniform(cond.params)"
   ]
  },
  {
   "cell_type": "code",
   "execution_count": 243,
   "id": "6dd59de9-7c34-4011-8ea1-6cf5050b62a5",
   "metadata": {},
   "outputs": [
    {
     "ename": "TypeError",
     "evalue": "add got incompatible shapes for broadcasting: (281, 880), (880, 880).",
     "output_type": "error",
     "traceback": [
      "\u001b[0;31m---------------------------------------------------------------------------\u001b[0m",
      "\u001b[0;31mTypeError\u001b[0m                                 Traceback (most recent call last)",
      "Cell \u001b[0;32mIn[243], line 1\u001b[0m\n\u001b[0;32m----> 1\u001b[0m \u001b[43mcond\u001b[49m\u001b[43m(\u001b[49m\u001b[43mp0\u001b[49m\u001b[43m)\u001b[49m\n",
      "File \u001b[0;32m~/Documents/discovery/src/discovery/likelihood.py:227\u001b[0m, in \u001b[0;36mGlobalLikelihood.conditional.<locals>.cond\u001b[0;34m(params)\u001b[0m\n\u001b[1;32m    224\u001b[0m FtNmy \u001b[38;5;241m=\u001b[39m matrix\u001b[38;5;241m.\u001b[39mjnp\u001b[38;5;241m.\u001b[39mconcatenate([solve[\u001b[38;5;241m0\u001b[39m] \u001b[38;5;28;01mfor\u001b[39;00m solve \u001b[38;5;129;01min\u001b[39;00m solves])\n\u001b[1;32m    226\u001b[0m Pinv, _ \u001b[38;5;241m=\u001b[39m P_var_inv(params)\n\u001b[0;32m--> 227\u001b[0m Sm \u001b[38;5;241m=\u001b[39m \u001b[43mPinv\u001b[49m\u001b[43m \u001b[49m\u001b[38;5;241;43m+\u001b[39;49m\u001b[43m \u001b[49m\u001b[43mmatrix\u001b[49m\u001b[38;5;241;43m.\u001b[39;49m\u001b[43mjsp\u001b[49m\u001b[38;5;241;43m.\u001b[39;49m\u001b[43mlinalg\u001b[49m\u001b[38;5;241;43m.\u001b[39;49m\u001b[43mblock_diag\u001b[49m\u001b[43m(\u001b[49m\u001b[38;5;241;43m*\u001b[39;49m\u001b[43m[\u001b[49m\u001b[43msolve\u001b[49m\u001b[43m[\u001b[49m\u001b[38;5;241;43m1\u001b[39;49m\u001b[43m]\u001b[49m\u001b[43m \u001b[49m\u001b[38;5;28;43;01mfor\u001b[39;49;00m\u001b[43m \u001b[49m\u001b[43msolve\u001b[49m\u001b[43m \u001b[49m\u001b[38;5;129;43;01min\u001b[39;49;00m\u001b[43m \u001b[49m\u001b[43msolves\u001b[49m\u001b[43m]\u001b[49m\u001b[43m)\u001b[49m\n\u001b[1;32m    229\u001b[0m \u001b[38;5;66;03m# the variance of the normal is S = Sm^-1; but if we want normal deviates y\u001b[39;00m\n\u001b[1;32m    230\u001b[0m \u001b[38;5;66;03m# with that variance, we can use the Cholesky decomposition\u001b[39;00m\n\u001b[1;32m    231\u001b[0m \u001b[38;5;66;03m# S = L L^T => Sm = L^-T L^-1, and then solve L^-T y = x for randn x\u001b[39;00m\n\u001b[1;32m    232\u001b[0m \u001b[38;5;66;03m# where cf = L^-1. See enterprise/signals/utils.py:ConditionalGP\u001b[39;00m\n\u001b[1;32m    233\u001b[0m \n\u001b[1;32m    234\u001b[0m \u001b[38;5;66;03m# to get the actual covariance, one would use cho_solve(cf, identity matrix)\u001b[39;00m\n\u001b[1;32m    236\u001b[0m cf \u001b[38;5;241m=\u001b[39m matrix\u001b[38;5;241m.\u001b[39mjsp\u001b[38;5;241m.\u001b[39mlinalg\u001b[38;5;241m.\u001b[39mcho_factor(Sm)\n",
      "File \u001b[0;32m~/mambaforge/envs/nanograv311/lib/python3.11/site-packages/jax/_src/numpy/array_methods.py:256\u001b[0m, in \u001b[0;36m_defer_to_unrecognized_arg.<locals>.deferring_binary_op\u001b[0;34m(self, other)\u001b[0m\n\u001b[1;32m    254\u001b[0m args \u001b[38;5;241m=\u001b[39m (other, \u001b[38;5;28mself\u001b[39m) \u001b[38;5;28;01mif\u001b[39;00m swap \u001b[38;5;28;01melse\u001b[39;00m (\u001b[38;5;28mself\u001b[39m, other)\n\u001b[1;32m    255\u001b[0m \u001b[38;5;28;01mif\u001b[39;00m \u001b[38;5;28misinstance\u001b[39m(other, _accepted_binop_types):\n\u001b[0;32m--> 256\u001b[0m   \u001b[38;5;28;01mreturn\u001b[39;00m \u001b[43mbinary_op\u001b[49m\u001b[43m(\u001b[49m\u001b[38;5;241;43m*\u001b[39;49m\u001b[43margs\u001b[49m\u001b[43m)\u001b[49m\n\u001b[1;32m    257\u001b[0m \u001b[38;5;28;01mif\u001b[39;00m \u001b[38;5;28misinstance\u001b[39m(other, _rejected_binop_types):\n\u001b[1;32m    258\u001b[0m   \u001b[38;5;28;01mraise\u001b[39;00m \u001b[38;5;167;01mTypeError\u001b[39;00m(\u001b[38;5;124mf\u001b[39m\u001b[38;5;124m\"\u001b[39m\u001b[38;5;124munsupported operand type(s) for \u001b[39m\u001b[38;5;132;01m{\u001b[39;00mopchar\u001b[38;5;132;01m}\u001b[39;00m\u001b[38;5;124m: \u001b[39m\u001b[38;5;124m\"\u001b[39m\n\u001b[1;32m    259\u001b[0m                   \u001b[38;5;124mf\u001b[39m\u001b[38;5;124m\"\u001b[39m\u001b[38;5;132;01m{\u001b[39;00m\u001b[38;5;28mtype\u001b[39m(args[\u001b[38;5;241m0\u001b[39m])\u001b[38;5;241m.\u001b[39m\u001b[38;5;18m__name__\u001b[39m\u001b[38;5;132;01m!r}\u001b[39;00m\u001b[38;5;124m and \u001b[39m\u001b[38;5;132;01m{\u001b[39;00m\u001b[38;5;28mtype\u001b[39m(args[\u001b[38;5;241m1\u001b[39m])\u001b[38;5;241m.\u001b[39m\u001b[38;5;18m__name__\u001b[39m\u001b[38;5;132;01m!r}\u001b[39;00m\u001b[38;5;124m\"\u001b[39m)\n",
      "    \u001b[0;31m[... skipping hidden 12 frame]\u001b[0m\n",
      "File \u001b[0;32m~/mambaforge/envs/nanograv311/lib/python3.11/site-packages/jax/_src/numpy/ufuncs.py:97\u001b[0m, in \u001b[0;36m_maybe_bool_binop.<locals>.fn\u001b[0;34m(x1, x2)\u001b[0m\n\u001b[1;32m     95\u001b[0m \u001b[38;5;28;01mdef\u001b[39;00m \u001b[38;5;21mfn\u001b[39m(x1, x2, \u001b[38;5;241m/\u001b[39m):\n\u001b[1;32m     96\u001b[0m   x1, x2 \u001b[38;5;241m=\u001b[39m promote_args(numpy_fn\u001b[38;5;241m.\u001b[39m\u001b[38;5;18m__name__\u001b[39m, x1, x2)\n\u001b[0;32m---> 97\u001b[0m   \u001b[38;5;28;01mreturn\u001b[39;00m \u001b[43mlax_fn\u001b[49m\u001b[43m(\u001b[49m\u001b[43mx1\u001b[49m\u001b[43m,\u001b[49m\u001b[43m \u001b[49m\u001b[43mx2\u001b[49m\u001b[43m)\u001b[49m \u001b[38;5;28;01mif\u001b[39;00m x1\u001b[38;5;241m.\u001b[39mdtype \u001b[38;5;241m!=\u001b[39m np\u001b[38;5;241m.\u001b[39mbool_ \u001b[38;5;28;01melse\u001b[39;00m bool_lax_fn(x1, x2)\n",
      "    \u001b[0;31m[... skipping hidden 7 frame]\u001b[0m\n",
      "File \u001b[0;32m~/mambaforge/envs/nanograv311/lib/python3.11/site-packages/jax/_src/lax/lax.py:1587\u001b[0m, in \u001b[0;36mbroadcasting_shape_rule\u001b[0;34m(name, *avals)\u001b[0m\n\u001b[1;32m   1585\u001b[0m       result_shape\u001b[38;5;241m.\u001b[39mappend(non_1s[\u001b[38;5;241m0\u001b[39m])\n\u001b[1;32m   1586\u001b[0m     \u001b[38;5;28;01melse\u001b[39;00m:\n\u001b[0;32m-> 1587\u001b[0m       \u001b[38;5;28;01mraise\u001b[39;00m \u001b[38;5;167;01mTypeError\u001b[39;00m(\u001b[38;5;124mf\u001b[39m\u001b[38;5;124m'\u001b[39m\u001b[38;5;132;01m{\u001b[39;00mname\u001b[38;5;132;01m}\u001b[39;00m\u001b[38;5;124m got incompatible shapes for broadcasting: \u001b[39m\u001b[38;5;124m'\u001b[39m\n\u001b[1;32m   1588\u001b[0m                       \u001b[38;5;124mf\u001b[39m\u001b[38;5;124m'\u001b[39m\u001b[38;5;132;01m{\u001b[39;00m\u001b[38;5;124m\"\u001b[39m\u001b[38;5;124m, \u001b[39m\u001b[38;5;124m\"\u001b[39m\u001b[38;5;241m.\u001b[39mjoin(\u001b[38;5;28mmap\u001b[39m(\u001b[38;5;28mstr\u001b[39m,\u001b[38;5;250m \u001b[39m\u001b[38;5;28mmap\u001b[39m(\u001b[38;5;28mtuple\u001b[39m,\u001b[38;5;250m \u001b[39mshapes)))\u001b[38;5;132;01m}\u001b[39;00m\u001b[38;5;124m.\u001b[39m\u001b[38;5;124m'\u001b[39m)\n\u001b[1;32m   1590\u001b[0m \u001b[38;5;28;01mreturn\u001b[39;00m \u001b[38;5;28mtuple\u001b[39m(result_shape)\n",
      "\u001b[0;31mTypeError\u001b[0m: add got incompatible shapes for broadcasting: (281, 880), (880, 880)."
     ]
    }
   ],
   "source": [
    "cond(p0)"
   ]
  },
  {
   "cell_type": "code",
   "execution_count": 206,
   "id": "cb687aab-5d99-4358-9e22-8fa5e683af1e",
   "metadata": {},
   "outputs": [
    {
     "data": {
      "text/plain": [
       "Array([[False, False, False, ..., False, False, False],\n",
       "       [False, False, False, ..., False, False, False],\n",
       "       [False, False, False, ..., False, False, False],\n",
       "       ...,\n",
       "       [False, False, False, ..., False, False, False],\n",
       "       [False, False, False, ..., False, False, False],\n",
       "       [False, False, False, ..., False, False, False]], dtype=bool)"
      ]
     },
     "execution_count": 206,
     "metadata": {},
     "output_type": "execute_result"
    }
   ],
   "source": [
    "jnp.isnan(c3a.globalgp.Phi_inv(p0)[0])"
   ]
  },
  {
   "cell_type": "code",
   "execution_count": 192,
   "id": "b82dd625-a380-488f-8b21-5183f1ee6654",
   "metadata": {},
   "outputs": [
    {
     "data": {
      "text/plain": [
       "(Array([nan, nan, nan, ..., nan, nan, nan], dtype=float64),\n",
       " (Array([[nan, nan, nan, ..., nan, nan, nan],\n",
       "         [ 0., nan, nan, ..., nan, nan, nan],\n",
       "         [ 0.,  0., nan, ..., nan, nan, nan],\n",
       "         ...,\n",
       "         [ 0.,  0.,  0., ..., nan, nan, nan],\n",
       "         [ 0.,  0.,  0., ...,  0., nan, nan],\n",
       "         [ 0.,  0.,  0., ...,  0.,  0., nan]], dtype=float64),\n",
       "  False))"
      ]
     },
     "execution_count": 192,
     "metadata": {},
     "output_type": "execute_result"
    }
   ],
   "source": [
    "cond(ds.sample_uniform(cond.params))"
   ]
  },
  {
   "cell_type": "code",
   "execution_count": 175,
   "id": "55d61e04-9ca3-4371-a5cc-8b4f7782e148",
   "metadata": {},
   "outputs": [],
   "source": [
    "p0 = ds.sample_uniform(cond.params)"
   ]
  },
  {
   "cell_type": "code",
   "execution_count": null,
   "id": "dfacf0aa-ade2-4c16-8e5f-33c0574d8b07",
   "metadata": {},
   "outputs": [],
   "source": []
  },
  {
   "cell_type": "code",
   "execution_count": 161,
   "id": "21e1c836-b354-4b08-8fd4-33aca2b91d3b",
   "metadata": {},
   "outputs": [],
   "source": [
    "rn = ds.makegp_fourier_allpsr(psrs, ds.powerlaw, 30, T=Tspan, name='red_noise')"
   ]
  },
  {
   "cell_type": "code",
   "execution_count": 162,
   "id": "624e02a7-c71f-4b58-a40d-76909e38a206",
   "metadata": {},
   "outputs": [],
   "source": [
    "gw = ds.makegp_fourier_global(psrs, ds.powerlaw, ds.hd_orf, 14, T=Tspan, name='gw')"
   ]
  },
  {
   "cell_type": "code",
   "execution_count": 163,
   "id": "517d0c8e-9c61-4201-bb2c-9770ff8e48c2",
   "metadata": {},
   "outputs": [],
   "source": [
    "cp = ds.matrix.CompoundGlobalGP([rn, gw])"
   ]
  },
  {
   "cell_type": "code",
   "execution_count": 164,
   "id": "af48c1db-b9b7-4986-a70a-8a1a6104932d",
   "metadata": {},
   "outputs": [
    {
     "data": {
      "text/plain": [
       "(Array([[2.23171441e+10, 0.00000000e+00, 0.00000000e+00, ...,\n",
       "         0.00000000e+00, 0.00000000e+00, 0.00000000e+00],\n",
       "        [0.00000000e+00, 2.23171441e+10, 0.00000000e+00, ...,\n",
       "         0.00000000e+00, 0.00000000e+00, 0.00000000e+00],\n",
       "        [0.00000000e+00, 0.00000000e+00, 2.82818537e+11, ...,\n",
       "         0.00000000e+00, 0.00000000e+00, 0.00000000e+00],\n",
       "        ...,\n",
       "        [0.00000000e+00, 0.00000000e+00, 0.00000000e+00, ...,\n",
       "         1.33611974e+13, 0.00000000e+00, 0.00000000e+00],\n",
       "        [0.00000000e+00, 0.00000000e+00, 0.00000000e+00, ...,\n",
       "         0.00000000e+00, 2.21487254e+13, 0.00000000e+00],\n",
       "        [0.00000000e+00, 0.00000000e+00, 0.00000000e+00, ...,\n",
       "         0.00000000e+00, 0.00000000e+00, 2.21487254e+13]], dtype=float64),\n",
       " Array(-2042.83589672, dtype=float64))"
      ]
     },
     "execution_count": 164,
     "metadata": {},
     "output_type": "execute_result"
    }
   ],
   "source": [
    "cp.Phi_inv(ds.sample_uniform(cp.Phi_inv.params))"
   ]
  },
  {
   "cell_type": "code",
   "execution_count": 71,
   "id": "8e4770a3-22cf-4742-8ec1-2d9cd8ecafad",
   "metadata": {},
   "outputs": [
    {
     "data": {
      "text/plain": [
       "(7753, 148)"
      ]
     },
     "execution_count": 71,
     "metadata": {},
     "output_type": "execute_result"
    }
   ],
   "source": [
    "[np.hstack(F) for F in zip(*[rn.Fs, gw.Fs, rn.Fs])][0].shape"
   ]
  },
  {
   "cell_type": "code",
   "execution_count": 67,
   "id": "88691d40-6506-4c65-bc10-3f7ab7077cc4",
   "metadata": {},
   "outputs": [
    {
     "data": {
      "text/plain": [
       "<discovery.matrix.NoiseMatrix2D_var at 0x2e838c5d0>"
      ]
     },
     "execution_count": 67,
     "metadata": {},
     "output_type": "execute_result"
    }
   ],
   "source": [
    "gw.Phi"
   ]
  },
  {
   "cell_type": "code",
   "execution_count": 58,
   "id": "90c7fb55-5a7e-4ff4-a771-b211d86dbcf1",
   "metadata": {},
   "outputs": [
    {
     "data": {
      "text/plain": [
       "(7753, 28)"
      ]
     },
     "execution_count": 58,
     "metadata": {},
     "output_type": "execute_result"
    }
   ],
   "source": [
    "gw.Fs[0].shape"
   ]
  },
  {
   "cell_type": "code",
   "execution_count": 63,
   "id": "b47d3116-9e8a-485a-877c-150ed5feb569",
   "metadata": {},
   "outputs": [
    {
     "data": {
      "text/plain": [
       "(7753, 88)"
      ]
     },
     "execution_count": 63,
     "metadata": {},
     "output_type": "execute_result"
    }
   ],
   "source": [
    "np.hstack([rn.Fs[0], gw.Fs[0]]).shape"
   ]
  },
  {
   "cell_type": "code",
   "execution_count": 8,
   "id": "cd6a5cf8-c127-4f97-aa8b-deb806d92b5f",
   "metadata": {},
   "outputs": [],
   "source": [
    "p0 = ds.sample_uniform(logl.params, n=10)"
   ]
  },
  {
   "cell_type": "code",
   "execution_count": 21,
   "id": "8e4f20b3-6ca0-42a1-9d73-8a13fa980f75",
   "metadata": {},
   "outputs": [],
   "source": [
    "p0 = {par: ds.matrix.jnparray(val) for par, val in ds.sample_uniform(logl.params, n=2).items()}"
   ]
  },
  {
   "cell_type": "code",
   "execution_count": 14,
   "id": "59f1b6a1-4760-431e-9521-afa54536460d",
   "metadata": {},
   "outputs": [],
   "source": [
    "vlogl = jax.vmap(logl)"
   ]
  },
  {
   "cell_type": "code",
   "execution_count": 16,
   "id": "aa1620b1-3d5e-4122-9aa2-0c5c30e7ef70",
   "metadata": {},
   "outputs": [],
   "source": [
    "jvlogl = jax.vmap(jlogl)"
   ]
  },
  {
   "cell_type": "code",
   "execution_count": 22,
   "id": "b30373cc-ee58-4611-8371-323e373427c1",
   "metadata": {},
   "outputs": [
    {
     "data": {
      "text/plain": [
       "Array([1183333.61873163, 1187209.95184411], dtype=float64)"
      ]
     },
     "execution_count": 22,
     "metadata": {},
     "output_type": "execute_result"
    }
   ],
   "source": [
    "jvlogl(p0)"
   ]
  },
  {
   "cell_type": "markdown",
   "id": "53bd321c-fd71-4997-8206-8138d8511ed4",
   "metadata": {},
   "source": [
    "Model-3a conditional predictive "
   ]
  },
  {
   "cell_type": "code",
   "execution_count": 330,
   "id": "b97f0db6-bb98-49de-92a8-a6d4e4ed8c66",
   "metadata": {},
   "outputs": [],
   "source": [
    "Tspan = ds.getspan(psrs)\n",
    "\n",
    "outnoise = ds.makenoise_measurement_simple(psrs[outpsr], {f'{outpsrname}_efac': 1.0,\n",
    "                                                          f'{outpsrname}_log10_t2equad': 0.0})\n",
    "\n",
    "gbl = ds.GlobalLikelihood([ds.PulsarLikelihood([psr.residuals,\n",
    "                                                outnoise if ipsr == outpsr else ds.makenoise_measurement(psr, psr.noisedict),\n",
    "                                                ds.makegp_ecorr(psr, psr.noisedict),\n",
    "                                                ds.makegp_timing(psr, variance=1e-14),\n",
    "                                                ds.makegp_fourier(psr, ds.powerlaw, 30, T=Tspan, name='red_noise')])\n",
    "                           for ipsr, psr in enumerate(psrs)],\n",
    "                          ds.makegp_fourier_global(psrs, ds.powerlaw, ds.hd_orf, 14, T=Tspan, name='gw'))\n",
    "\n",
    "cond = gbl.conditional"
   ]
  },
  {
   "cell_type": "code",
   "execution_count": 13,
   "id": "45dd4057-3b84-4bcf-b68f-9ff6da9b7e65",
   "metadata": {},
   "outputs": [],
   "source": [
    "# check that we have all the parameters\n",
    "# [p for p in cond.params if p not in chain.columns]"
   ]
  },
  {
   "cell_type": "markdown",
   "id": "d6490c99-36dc-42b1-984d-63a1e6522176",
   "metadata": {},
   "source": [
    "outpsr model3a likelihood "
   ]
  },
  {
   "cell_type": "code",
   "execution_count": 293,
   "id": "4e4e742c-0044-4c76-b8bb-cd0e37f7fbed",
   "metadata": {},
   "outputs": [],
   "source": [
    "psr = psrs[outpsr]\n",
    "spl3 = ds.PulsarLikelihood([psr.residuals,\n",
    "                            ds.makenoise_measurement(psr, psr.noisedict),\n",
    "                            ds.makegp_ecorr(psr, psr.noisedict),\n",
    "                            ds.makegp_timing(psr, variance=1e-14),\n",
    "                            ds.makegp_fourier(psr, ds.powerlaw, 30, T=Tspan, name='red_noise'),\n",
    "                            ds.makegp_fourier_delay(psr, 14, T=Tspan, name='gw'),\n",
    "                            ds.makegp_fourier_variance(psr, 14, T=Tspan, name='gw')\n",
    "                            ])\n",
    "\n",
    "logl3 = spl3.logL\n",
    "jlogl3 = jax.jit(logl3)"
   ]
  },
  {
   "cell_type": "code",
   "execution_count": 294,
   "id": "44904a58-7586-4531-9a70-29a659d039d1",
   "metadata": {},
   "outputs": [],
   "source": [
    "outpsrrange  = slice(outpsr*28, (outpsr+1)*28)\n",
    "\n",
    "outpsrmean = f'{outpsrname}_gw_mean(28)'\n",
    "outpsrvar  = f'{outpsrname}_gw_variance(28,28)'\n",
    "\n",
    "outpsrgamma  = f'{outpsrname}_red_noise_gamma'\n",
    "outpsrlog10A = f'{outpsrname}_red_noise_log10_A'"
   ]
  },
  {
   "cell_type": "code",
   "execution_count": 298,
   "id": "4f03036c-12a5-4be2-9249-d1e477e8a226",
   "metadata": {},
   "outputs": [],
   "source": [
    "def makeppl(logl, chain, conditional=True, accelerate=True):\n",
    "    index, records = [], []\n",
    "    for i, row in chain.sample(nsamples).iterrows():\n",
    "        par = row.to_dict()\n",
    "\n",
    "        if conditional:    \n",
    "            cm, cl = cond(par)\n",
    "            \n",
    "            par[outpsrmean] = cm[outrange]\n",
    "            par[outpsrvar] = ds.matrix.jsp.linalg.cho_solve(cl, jnp.identity(len(cm))[:, outrange])[outrange, :]\n",
    "\n",
    "            if accelerate:\n",
    "                # could cast this in PulsarLikelihood\n",
    "                ym = np.array(ds.makegp_fourier_delay(psr, 14, T=Tspan, name='gw')(par))\n",
    "                spl3 = ds.PulsarLikelihood([psr.residuals - ym,\n",
    "                                            ds.makenoise_measurement(psr, psr.noisedict),\n",
    "                                            ds.makegp_ecorr(psr, psr.noisedict),\n",
    "                                            ds.makegp_timing(psr, variance=1e-14),\n",
    "                                            ds.makegp_fourier(psr, ds.powerlaw, 30, T=Tspan, name='red_noise'),\n",
    "                                            ds.makegp_fourier_variance(psr, 14, T=Tspan, name='gw', noisedict=par)\n",
    "                                            ])\n",
    "                \n",
    "                logl = jax.jit(spl3.logL)\n",
    "        \n",
    "        def ufunc(gamma, log10_A):\n",
    "            return float(logl({**par, outpsrgamma: gamma, outpsrlog10A: log10_A}))\n",
    "    \n",
    "        norm = ufunc(4.0, -14.0)\n",
    "        def nfunc(gamma, log10_A):\n",
    "            return np.exp(ufunc(gamma, log10_A) - norm)\n",
    "    \n",
    "        index.append(i)\n",
    "        records.append({'gw_gamma': par.get('gw_gamma', np.nan),\n",
    "                        'gw_log10_A': par['gw_log10_A'],\n",
    "                                              # note func(y, x), with limits given for x, y\n",
    "                        'logl': norm + np.log(sp.integrate.dblquad(nfunc, -20, -11, 0, 7)[0])})\n",
    "    \n",
    "    return pd.DataFrame(records, index=index)"
   ]
  },
  {
   "cell_type": "code",
   "execution_count": 301,
   "id": "f8f18973-13c0-4fd2-a30c-bdc8c3e3f130",
   "metadata": {},
   "outputs": [
    {
     "name": "stdout",
     "output_type": "stream",
     "text": [
      "CPU times: user 2.94 s, sys: 33.6 ms, total: 2.97 s\n",
      "Wall time: 1.69 s\n"
     ]
    }
   ],
   "source": [
    "%time df = makeppl(logl3, model3a, conditional=True, accelerate=True)"
   ]
  },
  {
   "cell_type": "code",
   "execution_count": 289,
   "id": "466e1661-feb8-4028-8790-67d178bcc2a3",
   "metadata": {},
   "outputs": [
    {
     "name": "stdout",
     "output_type": "stream",
     "text": [
      "CPU times: user 2.21 s, sys: 36.5 ms, total: 2.25 s\n",
      "Wall time: 1.23 s\n"
     ]
    }
   ],
   "source": [
    "%time df = makeppl(logl3, model3a, conditional=True, accelerate=True)"
   ]
  },
  {
   "cell_type": "code",
   "execution_count": null,
   "id": "a8901747-428f-4af6-b46c-3b5418e295ed",
   "metadata": {},
   "outputs": [],
   "source": [
    "%time df = makeppl(jlogl3, model3a, conditional=True)"
   ]
  },
  {
   "cell_type": "code",
   "execution_count": null,
   "id": "3ef4b959-dbba-463c-bcb7-a5b7ada81d0b",
   "metadata": {},
   "outputs": [],
   "source": [
    "df.to_feather(f'{outpsrname}_ppl_model3a.feather')"
   ]
  },
  {
   "cell_type": "code",
   "execution_count": null,
   "id": "5a0bfdb1-64c5-4232-984b-b3de2c2f3065",
   "metadata": {},
   "outputs": [],
   "source": [
    "del spl3, logl3, jlogl3"
   ]
  },
  {
   "cell_type": "markdown",
   "id": "2da47f24-fcf7-47f4-8f5a-1755d753beaf",
   "metadata": {},
   "source": [
    "outpsr model2a likelihood "
   ]
  },
  {
   "cell_type": "code",
   "execution_count": 210,
   "id": "e04d86d7-fbe3-40e8-8a7f-a6c93fc76577",
   "metadata": {},
   "outputs": [],
   "source": [
    "spl2 = ds.PulsarLikelihood([psr.residuals,\n",
    "                            ds.makenoise_measurement(psr, psr.noisedict),\n",
    "                            ds.makegp_ecorr(psr, psr.noisedict),\n",
    "                            ds.makegp_timing(psr, variance=1e-14),\n",
    "                            ds.makegp_fourier(psr, ds.powerlaw, 30, T=Tspan, name='red_noise'),\n",
    "                            ds.makegp_fourier(psr, ds.powerlaw, 14, T=Tspan, name='gw', common=['gw_log10_A', 'gw_gamma'])\n",
    "                            ])\n",
    "\n",
    "logl2 = spl2.logL\n",
    "jlogl2 = jax.jit(logl2)"
   ]
  },
  {
   "cell_type": "code",
   "execution_count": 211,
   "id": "2853e899-f645-4b88-888e-7fe6b76a72bc",
   "metadata": {},
   "outputs": [
    {
     "name": "stdout",
     "output_type": "stream",
     "text": [
      "CPU times: user 187 ms, sys: 336 ms, total: 523 ms\n",
      "Wall time: 300 ms\n"
     ]
    }
   ],
   "source": [
    "%time df = makeppl(logl2, model2a, conditional=False)"
   ]
  },
  {
   "cell_type": "code",
   "execution_count": null,
   "id": "1fa493d3-4102-431a-ae0d-8c6b387a0123",
   "metadata": {},
   "outputs": [],
   "source": [
    "df.to_feather(f'{outpsrname}_ppl_model2a.feather')"
   ]
  }
 ],
 "metadata": {
  "kernelspec": {
   "display_name": "Python 3 (ipykernel)",
   "language": "python",
   "name": "python3"
  },
  "language_info": {
   "codemirror_mode": {
    "name": "ipython",
    "version": 3
   },
   "file_extension": ".py",
   "mimetype": "text/x-python",
   "name": "python",
   "nbconvert_exporter": "python",
   "pygments_lexer": "ipython3",
   "version": "3.11.5"
  }
 },
 "nbformat": 4,
 "nbformat_minor": 5
}
