{
 "cells": [
  {
   "cell_type": "code",
   "execution_count": 1,
   "metadata": {},
   "outputs": [],
   "source": [
    "%load_ext autoreload\n",
    "%autoreload 2\n",
    "import pickle, json\n",
    "import discovery as ds\n",
    "import jax\n",
    "from jax import numpy as jnp\n",
    "\n",
    "import blackjax\n",
    "\n",
    "from matplotlib import pyplot as plt"
   ]
  },
  {
   "cell_type": "code",
   "execution_count": 2,
   "metadata": {},
   "outputs": [
    {
     "name": "stderr",
     "output_type": "stream",
     "text": [
      "libstempo not installed. Will use PINT instead.\n",
      "RuntimeWarning: This platform does not support extended precision floating-point, and PINT will run at reduced precision.\n"
     ]
    }
   ],
   "source": [
    "datadir = '/Users/aaron/Documents/NANOGrav/ng_data/15yr_data'\n",
    "with open(datadir + '/15yr_pint.pkl', 'rb') as fp:\n",
    "    psrs = pickle.load(fp)\n",
    "\n",
    "with open(datadir + '/v1p1_wn_dict.json', 'r') as fp:\n",
    "    wn_params = json.load(fp)"
   ]
  },
  {
   "cell_type": "code",
   "execution_count": 3,
   "metadata": {},
   "outputs": [],
   "source": [
    "num_psrs = 2\n",
    "psrs = psrs[:num_psrs]"
   ]
  },
  {
   "cell_type": "code",
   "execution_count": 4,
   "metadata": {},
   "outputs": [],
   "source": [
    "tspan = ds.getspan(psrs)"
   ]
  },
  {
   "cell_type": "code",
   "execution_count": 12,
   "metadata": {},
   "outputs": [],
   "source": [
    "# It is twice as fast per iteration to create this object with generator input\n",
    "gl = ds.GlobalLikelihood((ds.PulsarLikelihood([psrs[ii].residuals,\n",
    "                                     ds.makenoise_measurement(psrs[ii], wn_params),\n",
    "                                     ds.makegp_ecorr(psrs[ii], wn_params),\n",
    "                                     ds.makegp_timing(psrs[ii]),\n",
    "                                     ds.makegp_fourier(psrs[ii], ds.powerlaw, 30, T=tspan, name='red_noise'),\n",
    "                                     ds.makegp_fourier(psrs[ii], ds.powerlaw, 14, T=tspan, common=['gw_log10_A', 'gw_gamma'], name='gw')]) for ii in range(len(psrs))))\n"
   ]
  },
  {
   "cell_type": "code",
   "execution_count": 13,
   "metadata": {},
   "outputs": [],
   "source": [
    "x0 = ds.prior.sample_uniform(gl.logL.params)\n",
    "logprior = ds.prior.makelogprior_uniform(gl.logL.params, ds.prior.priordict_standard)\n",
    "loglike = gl.logL\n",
    "\n",
    "jlogl = jax.jit(loglike)\n",
    "jlogp = jax.jit(logprior)"
   ]
  },
  {
   "cell_type": "code",
   "execution_count": 14,
   "metadata": {},
   "outputs": [],
   "source": [
    "@jax.jit\n",
    "def logdensity(x):\n",
    "    # x = map_params(loglike.params, x)\n",
    "    return jlogp(x) + jlogl(x)"
   ]
  },
  {
   "cell_type": "code",
   "execution_count": 15,
   "metadata": {},
   "outputs": [
    {
     "data": {
      "text/plain": [
       "Array(419356.6331813, dtype=float64)"
      ]
     },
     "execution_count": 15,
     "metadata": {},
     "output_type": "execute_result"
    }
   ],
   "source": [
    "initial_position = ds.prior.sample_uniform(gl.logL.params)\n",
    "logdensity(initial_position)"
   ]
  },
  {
   "cell_type": "code",
   "execution_count": 11,
   "metadata": {},
   "outputs": [
    {
     "name": "stdout",
     "output_type": "stream",
     "text": [
      "458 µs ± 100 µs per loop (mean ± std. dev. of 7 runs, 1,000 loops each)\n"
     ]
    }
   ],
   "source": [
    "%%timeit\n",
    "logdensity(initial_position)  # ~16 ms per loop"
   ]
  },
  {
   "cell_type": "markdown",
   "metadata": {},
   "source": [
    "### Use `blackjax` to do some sampling with `nuts`"
   ]
  },
  {
   "cell_type": "code",
   "execution_count": 12,
   "metadata": {},
   "outputs": [],
   "source": [
    "# input some generic starting parameters\n",
    "inv_mass_matrix = jnp.zeros(len(jlogl.params)) + 0.5\n",
    "num_integration_steps = 60\n",
    "step_size = 1e-3\n",
    "\n",
    "nuts = blackjax.nuts(logdensity, step_size, inv_mass_matrix)"
   ]
  },
  {
   "cell_type": "code",
   "execution_count": 13,
   "metadata": {},
   "outputs": [],
   "source": [
    "# set up the loop for nuts\n",
    "def inference_loop(rng_key, kernel, initial_state, num_samples):\n",
    "    @jax.jit\n",
    "    def one_step(state, rng_key):\n",
    "        state, _ = kernel(rng_key, state)\n",
    "        return state, state\n",
    "\n",
    "    keys = jax.random.split(rng_key, num_samples)\n",
    "    _, states = jax.lax.scan(one_step, initial_state, keys)\n",
    "\n",
    "    return states"
   ]
  },
  {
   "cell_type": "code",
   "execution_count": 14,
   "metadata": {},
   "outputs": [],
   "source": [
    "# This cell takes 17m, 16s to run on my laptop\n",
    "# run a warmup sequence to get the sampler to reasonable starting parameters\n",
    "rng_key = jax.random.PRNGKey(30)  # initial rng_key\n",
    "warmup = blackjax.window_adaptation(blackjax.nuts, logdensity, num_steps=1000)\n",
    "last_chain_state, kernel, warmup_chain = warmup.run(rng_key, initial_position)"
   ]
  },
  {
   "cell_type": "code",
   "execution_count": 15,
   "metadata": {},
   "outputs": [
    {
     "data": {
      "text/plain": [
       "HMCState(position={'B1855+09_red_noise_gamma': Array(4.16466363, dtype=float64, weak_type=True), 'B1855+09_red_noise_log10_A': Array(-14.16318882, dtype=float64, weak_type=True), 'B1937+21_red_noise_gamma': Array(3.66114835, dtype=float64, weak_type=True), 'B1937+21_red_noise_log10_A': Array(-13.5490134, dtype=float64, weak_type=True), 'crn_gamma': Array(4.82621692, dtype=float64, weak_type=True), 'crn_log10_A': Array(-14.69674362, dtype=float64, weak_type=True)}, potential_energy=Array(-419620.96902006, dtype=float64), potential_energy_grad={'B1855+09_red_noise_gamma': Array(0.00369066, dtype=float64, weak_type=True), 'B1855+09_red_noise_log10_A': Array(-1.574818, dtype=float64, weak_type=True), 'B1937+21_red_noise_gamma': Array(-5.83761784, dtype=float64, weak_type=True), 'B1937+21_red_noise_log10_A': Array(-14.39174901, dtype=float64, weak_type=True), 'crn_gamma': Array(-0.16616614, dtype=float64, weak_type=True), 'crn_log10_A': Array(-0.75215021, dtype=float64, weak_type=True)})"
      ]
     },
     "execution_count": 15,
     "metadata": {},
     "output_type": "execute_result"
    }
   ],
   "source": [
    "last_chain_state"
   ]
  },
  {
   "cell_type": "code",
   "execution_count": 17,
   "metadata": {},
   "outputs": [],
   "source": [
    "# run for 10k iterations\n",
    "states = inference_loop(rng_key, kernel, last_chain_state, 10000)"
   ]
  },
  {
   "cell_type": "code",
   "execution_count": 19,
   "metadata": {},
   "outputs": [
    {
     "data": {
      "text/plain": [
       "[<matplotlib.lines.Line2D at 0x2c84a9d90>]"
      ]
     },
     "execution_count": 19,
     "metadata": {},
     "output_type": "execute_result"
    },
    {
     "data": {
      "image/png": "[encoded data removed]",
      "text/plain": [
       "<Figure size 640x480 with 1 Axes>"
      ]
     },
     "metadata": {},
     "output_type": "display_data"
    }
   ],
   "source": [
    "plt.plot(states[0]['crn_log10_A'])"
   ]
  },
  {
   "cell_type": "code",
   "execution_count": 24,
   "metadata": {},
   "outputs": [
    {
     "data": {
      "image/png": "[encoded data removed]",
      "text/plain": [
       "<Figure size 640x480 with 1 Axes>"
      ]
     },
     "metadata": {},
     "output_type": "display_data"
    }
   ],
   "source": [
    "plt.hist(states[0]['crn_log10_A'], bins=30, density=True, alpha=0.5, label='crn_log10_A');"
   ]
  },
  {
   "cell_type": "markdown",
   "metadata": {},
   "source": [
    "### Compare with `enterprise`"
   ]
  },
  {
   "cell_type": "code",
   "execution_count": 16,
   "metadata": {},
   "outputs": [],
   "source": [
    "from enterprise_extensions import models"
   ]
  },
  {
   "cell_type": "code",
   "execution_count": 17,
   "metadata": {},
   "outputs": [],
   "source": [
    "pta = models.model_2a(psrs, noisedict=wn_params, components=30, n_gwbfreqs=14,\n",
    "               Tspan=tspan, tm_marg=True, tm_svd=True)"
   ]
  },
  {
   "cell_type": "code",
   "execution_count": 31,
   "metadata": {},
   "outputs": [],
   "source": [
    "vals = []\n",
    "for i in range(10000):\n",
    "    initial_position = ds.prior.sample_uniform(gl.logL.params)\n",
    "    vals.append(pta.get_lnlikelihood(initial_position) - jlogl(initial_position))"
   ]
  },
  {
   "cell_type": "code",
   "execution_count": 25,
   "metadata": {},
   "outputs": [
    {
     "data": {
      "text/plain": [
       "{'B1855+09_red_noise_gamma': 2.0284275572024884,\n",
       " 'B1855+09_red_noise_log10_A': -14.296542979030518,\n",
       " 'B1937+21_red_noise_gamma': 2.186118724833316,\n",
       " 'B1937+21_red_noise_log10_A': -12.276475904279181,\n",
       " 'gw_gamma': 6.439152972779656,\n",
       " 'gw_log10_A': -11.395808126429062}"
      ]
     },
     "execution_count": 25,
     "metadata": {},
     "output_type": "execute_result"
    }
   ],
   "source": [
    "initial_position"
   ]
  },
  {
   "cell_type": "code",
   "execution_count": 26,
   "metadata": {},
   "outputs": [
    {
     "data": {
      "text/plain": [
       "KernelMatrix(419198.46343071)"
      ]
     },
     "execution_count": 26,
     "metadata": {},
     "output_type": "execute_result"
    }
   ],
   "source": [
    "pta.get_lnlikelihood(initial_position)"
   ]
  },
  {
   "cell_type": "code",
   "execution_count": 27,
   "metadata": {},
   "outputs": [
    {
     "data": {
      "text/plain": [
       "Array(419254.02422651, dtype=float64)"
      ]
     },
     "execution_count": 27,
     "metadata": {},
     "output_type": "execute_result"
    }
   ],
   "source": [
    "jlogl(initial_position)"
   ]
  },
  {
   "cell_type": "code",
   "execution_count": 28,
   "metadata": {},
   "outputs": [
    {
     "data": {
      "text/plain": [
       "['B1855+09_red_noise_gamma',\n",
       " 'B1855+09_red_noise_log10_A',\n",
       " 'B1937+21_red_noise_gamma',\n",
       " 'B1937+21_red_noise_log10_A',\n",
       " 'gw_gamma',\n",
       " 'gw_log10_A']"
      ]
     },
     "execution_count": 28,
     "metadata": {},
     "output_type": "execute_result"
    }
   ],
   "source": [
    "pta.param_names"
   ]
  },
  {
   "cell_type": "code",
   "execution_count": 32,
   "metadata": {},
   "outputs": [
    {
     "data": {
      "text/plain": [
       "[<matplotlib.lines.Line2D at 0x2cfbb53d0>]"
      ]
     },
     "execution_count": 32,
     "metadata": {},
     "output_type": "execute_result"
    },
    {
     "data": {
      "image/png": "[encoded data removed]",
      "text/plain": [
       "<Figure size 640x480 with 1 Axes>"
      ]
     },
     "metadata": {},
     "output_type": "display_data"
    }
   ],
   "source": [
    "plt.plot(vals)"
   ]
  },
  {
   "cell_type": "code",
   "execution_count": 33,
   "metadata": {},
   "outputs": [
    {
     "data": {
      "image/png": "[encoded data removed]",
      "text/plain": [
       "<Figure size 640x480 with 1 Axes>"
      ]
     },
     "metadata": {},
     "output_type": "display_data"
    }
   ],
   "source": [
    "plt.hist(vals, bins=100, density=True, alpha=0.5, label='samples');"
   ]
  },
  {
   "cell_type": "markdown",
   "metadata": {},
   "source": [
    "### Full HMC run"
   ]
  },
  {
   "cell_type": "code",
   "execution_count": 34,
   "metadata": {},
   "outputs": [],
   "source": [
    "datadir = '/Users/aaron/Documents/NANOGrav/ng_data/15yr_data'\n",
    "with open(datadir + '/15yr_pint.pkl', 'rb') as fp:\n",
    "    psrs = pickle.load(fp)\n",
    "\n",
    "with open(datadir + '/v1p1_wn_dict.json', 'r') as fp:\n",
    "    wn_params = json.load(fp)"
   ]
  },
  {
   "cell_type": "code",
   "execution_count": 35,
   "metadata": {},
   "outputs": [],
   "source": [
    "# It is twice as fast per iteration to create this object with generator input\n",
    "gl = ds.GlobalLikelihood((ds.PulsarLikelihood([psrs[ii].residuals,\n",
    "                                     ds.makenoise_measurement(psrs[ii], wn_params),\n",
    "                                     ds.makegp_ecorr(psrs[ii], wn_params),\n",
    "                                     ds.makegp_timing(psrs[ii]),\n",
    "                                     ds.makegp_fourier(psrs[ii], ds.powerlaw, 30, T=tspan, name='red_noise'),\n",
    "                                     ds.makegp_fourier(psrs[ii], ds.powerlaw, 14, T=tspan, common=['gw_log10_A', 'gw_gamma'], name='gw')]) for ii in range(len(psrs))))"
   ]
  },
  {
   "cell_type": "code",
   "execution_count": 36,
   "metadata": {},
   "outputs": [],
   "source": [
    "x0 = ds.prior.sample_uniform(gl.logL.params)\n",
    "logprior = ds.prior.makelogprior_uniform(gl.logL.params, ds.prior.priordict_standard)\n",
    "loglike = gl.logL\n",
    "\n",
    "jlogl = jax.jit(loglike)\n",
    "jlogp = jax.jit(logprior)\n"
   ]
  },
  {
   "cell_type": "code",
   "execution_count": 37,
   "metadata": {},
   "outputs": [],
   "source": [
    "@jax.jit\n",
    "def logdensity(x):\n",
    "    # x = map_params(loglike.params, x)\n",
    "    return jlogp(x) + jlogl(x)"
   ]
  },
  {
   "cell_type": "code",
   "execution_count": 38,
   "metadata": {},
   "outputs": [
    {
     "data": {
      "text/plain": [
       "Array(7928186.11839871, dtype=float64)"
      ]
     },
     "execution_count": 38,
     "metadata": {},
     "output_type": "execute_result"
    }
   ],
   "source": [
    "initial_position = ds.prior.sample_uniform(gl.logL.params)\n",
    "logdensity(initial_position)"
   ]
  },
  {
   "cell_type": "code",
   "execution_count": 39,
   "metadata": {},
   "outputs": [],
   "source": [
    "# input some generic starting parameters\n",
    "inv_mass_matrix = jnp.zeros(len(jlogl.params)) + 0.5\n",
    "num_integration_steps = 60\n",
    "step_size = 1e-3\n",
    "\n",
    "nuts = blackjax.nuts(logdensity, step_size, inv_mass_matrix)"
   ]
  },
  {
   "cell_type": "code",
   "execution_count": 40,
   "metadata": {},
   "outputs": [],
   "source": [
    "# set up the loop for nuts\n",
    "def inference_loop(rng_key, kernel, initial_state, num_samples):\n",
    "    @jax.jit\n",
    "    def one_step(state, rng_key):\n",
    "        state, _ = kernel(rng_key, state)\n",
    "        return state, state\n",
    "\n",
    "    keys = jax.random.split(rng_key, num_samples)\n",
    "    _, states = jax.lax.scan(one_step, initial_state, keys)\n",
    "\n",
    "    return states"
   ]
  },
  {
   "cell_type": "code",
   "execution_count": 41,
   "metadata": {},
   "outputs": [
    {
     "name": "stderr",
     "output_type": "stream",
     "text": [
      "2023-07-30 15:51:01.731939: E external/xla/xla/service/slow_operation_alarm.cc:65] \n",
      "********************************\n",
      "[Compiling module jit_scan] Very slow compile? If you want to file a bug, run with envvar XLA_FLAGS=--xla_dump_to=/tmp/foo and attach the results.\n",
      "********************************\n",
      "2023-07-30 15:51:05.112810: E external/xla/xla/service/slow_operation_alarm.cc:133] The operation took 2m3.387632s\n",
      "\n",
      "********************************\n",
      "[Compiling module jit_scan] Very slow compile? If you want to file a bug, run with envvar XLA_FLAGS=--xla_dump_to=/tmp/foo and attach the results.\n",
      "********************************\n"
     ]
    }
   ],
   "source": [
    "# This cell takes 17m, 16s to run on my laptop\n",
    "# run a warmup sequence to get the sampler to reasonable starting parameters\n",
    "rng_key = jax.random.PRNGKey(30)  # initial rng_key\n",
    "warmup = blackjax.window_adaptation(blackjax.nuts, logdensity, num_steps=1000)\n",
    "last_chain_state, kernel, warmup_chain = warmup.run(rng_key, initial_position)"
   ]
  },
  {
   "cell_type": "code",
   "execution_count": 42,
   "metadata": {},
   "outputs": [],
   "source": [
    "# run for 10k iterations\n",
    "states = inference_loop(rng_key, kernel, last_chain_state, 10000)"
   ]
  },
  {
   "cell_type": "code",
   "execution_count": null,
   "metadata": {},
   "outputs": [],
   "source": []
  }
 ],
 "metadata": {
  "kernelspec": {
   "display_name": "discovery",
   "language": "python",
   "name": "python3"
  },
  "language_info": {
   "codemirror_mode": {
    "name": "ipython",
    "version": 3
   },
   "file_extension": ".py",
   "mimetype": "text/x-python",
   "name": "python",
   "nbconvert_exporter": "python",
   "pygments_lexer": "ipython3",
   "version": "3.11.4"
  },
  "orig_nbformat": 4
 },
 "nbformat": 4,
 "nbformat_minor": 2
}
